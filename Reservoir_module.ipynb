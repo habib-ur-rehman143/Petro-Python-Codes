{
 "cells": [
  {
   "cell_type": "code",
   "execution_count": 1,
   "id": "69301f7e",
   "metadata": {},
   "outputs": [],
   "source": [
    "import math"
   ]
  },
  {
   "cell_type": "code",
   "execution_count": 2,
   "id": "ba21b01e",
   "metadata": {},
   "outputs": [],
   "source": [
    "def darcy_flow_pwf(unit_conversion):\n",
    "    Pi = float(input('Pi = '))\n",
    "    q = float(input('Enter Flowrate in STB/D'))\n",
    "    mu = float(input('Enter Viscosity in cP'))\n",
    "    B = float(input('Enter FVF rb/STB'))\n",
    "    k = float(input('EnterPerm mD'))\n",
    "    h = float(input('Enter Res Thickness ft'))\n",
    "    re = 3000\n",
    "    rw = 0.5\n",
    "    Coeff = unit_conversion*q*mu*B/(k*h)\n",
    "    Pwf = Pi - Coeff*math.log(re/rw)\n",
    "    return Pwf"
   ]
  },
  {
   "cell_type": "code",
   "execution_count": null,
   "id": "5122dade",
   "metadata": {},
   "outputs": [],
   "source": [
    "def klinkenberg_effect():\n",
    "    k = float(input('Enter the initial guess of absolute permeability(kl_0): '))\n",
    "\n",
    "    pm = float(input('Enter the Mean Pressure: '))\n",
    "\n",
    "    kg = float(input(\"Enter k(air) calculated in lab at pressure pm: \"))\n",
    "\n",
    "    while abs(6.9*(k**0.64)+pm*k-pm*kg)>0.00001:\n",
    "        k = k - (6.9*(k**0.64) + pm*k - pm*kg)/(4.416*(k**(-0.36)) + pm)\n",
    "\n",
    "    print(f\"The final value of Perm K is {k}\")\n",
    "    return k"
   ]
  }
 ],
 "metadata": {
  "kernelspec": {
   "display_name": "Python 3 (ipykernel)",
   "language": "python",
   "name": "python3"
  },
  "language_info": {
   "codemirror_mode": {
    "name": "ipython",
    "version": 3
   },
   "file_extension": ".py",
   "mimetype": "text/x-python",
   "name": "python",
   "nbconvert_exporter": "python",
   "pygments_lexer": "ipython3",
   "version": "3.10.9"
  }
 },
 "nbformat": 4,
 "nbformat_minor": 5
}
