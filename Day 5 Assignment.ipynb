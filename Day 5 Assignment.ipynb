{
 "cells": [
  {
   "cell_type": "code",
   "execution_count": 1,
   "id": "0a7c6022",
   "metadata": {},
   "outputs": [
    {
     "name": "stdout",
     "output_type": "stream",
     "text": [
      "enter the reservoir pressure(psi): 500\n",
      "enter the hydrostatic pressure of mud(psi): 200\n",
      "enter the fracture pressure of rock(psi): 250\n",
      "ALERT!!! Risk of kick\n"
     ]
    }
   ],
   "source": [
    "reservoir_pressure = float(input('enter the reservoir pressure(psi): '))\n",
    "hydrostatic_pressure = float(input('enter the hydrostatic pressure of mud(psi): '))\n",
    "fracture_pressure = float(input('enter the fracture pressure of rock(psi): '))\n",
    "if hydrostatic_pressure>reservoir_pressure and hydrostatic_pressure<fracture_pressure:\n",
    "    print('reservoir pressure is lesser than hydrostatic pressure, so no kick')\n",
    "    print('hydrostatic pressure due to mud is lesser than fracture pressure, so no formation fractures')\n",
    "    print('safe zone')\n",
    "elif  hydrostatic_pressure>reservoir_pressure and hydrostatic_pressure>fracture_pressure:\n",
    "    print('hydrostatic pressure is greater than fracture pressure, may result in fracture')\n",
    "    print('ALERT!!! Risk of Formation fractures')\n",
    "else:\n",
    "    print('ALERT!!! Risk of kick')\n"
   ]
  },
  {
   "cell_type": "markdown",
   "id": "79436f75",
   "metadata": {},
   "source": [
    "## Assignment"
   ]
  },
  {
   "cell_type": "code",
   "execution_count": 2,
   "id": "ad7daa57",
   "metadata": {},
   "outputs": [],
   "source": [
    "## take input of reservoir pressure and bubble point pressure, whether your reservoir is undersaturated or saturated\n"
   ]
  },
  {
   "cell_type": "code",
   "execution_count": 3,
   "id": "5ecb9a0a",
   "metadata": {},
   "outputs": [
    {
     "name": "stdout",
     "output_type": "stream",
     "text": [
      "enter the reservoir pressure(psi): 5000\n",
      "enter the bubble point pressure (psi): 4500\n",
      "Undersaturated reservoir\n"
     ]
    }
   ],
   "source": [
    "reservoir_pressure = float(input('enter the reservoir pressure(psi): '))\n",
    "bubble_point_pressure = float(input('enter the bubble point pressure (psi): '))\n",
    "if reservoir_pressure>bubble_point_pressure:\n",
    "    print('Undersaturated reservoir')\n",
    "elif reservoir_pressure<bubble_point_pressure:\n",
    "    print('saturated reservoir')\n",
    "else:\n",
    "    print('Gas and oil is present')\n"
   ]
  },
  {
   "cell_type": "code",
   "execution_count": 4,
   "id": "2a483145",
   "metadata": {},
   "outputs": [
    {
     "name": "stdout",
     "output_type": "stream",
     "text": [
      "enter the reservoir pressure(psi): 5000\n",
      "enter the bubble point pressure (psi): 6000\n",
      "saturated reservoir\n"
     ]
    }
   ],
   "source": [
    "reservoir_pressure = float(input('enter the reservoir pressure(psi): '))\n",
    "bubble_point_pressure = float(input('enter the bubble point pressure (psi): '))\n",
    "if reservoir_pressure>bubble_point_pressure:\n",
    "    print('Undersaturated reservoir')\n",
    "elif reservoir_pressure<bubble_point_pressure:\n",
    "    print('saturated reservoir')\n",
    "else:\n",
    "    print('Gas and oil is present')\n"
   ]
  },
  {
   "cell_type": "code",
   "execution_count": 5,
   "id": "e6d8849c",
   "metadata": {},
   "outputs": [
    {
     "name": "stdout",
     "output_type": "stream",
     "text": [
      "enter the reservoir pressure(psi): 5500\n",
      "enter the bubble point pressure (psi): 5500\n",
      "Gas and oil is present\n"
     ]
    }
   ],
   "source": [
    "reservoir_pressure = float(input('enter the reservoir pressure(psi): '))\n",
    "bubble_point_pressure = float(input('enter the bubble point pressure (psi): '))\n",
    "if reservoir_pressure>bubble_point_pressure:\n",
    "    print('Undersaturated reservoir')\n",
    "elif reservoir_pressure<bubble_point_pressure:\n",
    "    print('saturated reservoir')\n",
    "else:\n",
    "    print('Gas and oil is present')"
   ]
  },
  {
   "cell_type": "code",
   "execution_count": null,
   "id": "9f750f0e",
   "metadata": {},
   "outputs": [],
   "source": []
  }
 ],
 "metadata": {
  "kernelspec": {
   "display_name": "Python 3 (ipykernel)",
   "language": "python",
   "name": "python3"
  },
  "language_info": {
   "codemirror_mode": {
    "name": "ipython",
    "version": 3
   },
   "file_extension": ".py",
   "mimetype": "text/x-python",
   "name": "python",
   "nbconvert_exporter": "python",
   "pygments_lexer": "ipython3",
   "version": "3.10.9"
  }
 },
 "nbformat": 4,
 "nbformat_minor": 5
}
