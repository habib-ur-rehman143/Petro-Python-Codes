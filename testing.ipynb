{
 "cells": [
  {
   "cell_type": "code",
   "execution_count": 2,
   "id": "53abd01f",
   "metadata": {},
   "outputs": [],
   "source": [
    "import Reservoir_module"
   ]
  },
  {
   "cell_type": "code",
   "execution_count": 3,
   "id": "72b43ec8",
   "metadata": {},
   "outputs": [
    {
     "name": "stdout",
     "output_type": "stream",
     "text": [
      "Enter the initial guess of absolute permeability(kl_0): 15\n",
      "Enter the Mean Pressure: 51\n",
      "Enter k(air) calculated in lab at pressure pm: 522\n",
      "The final value of Perm K is 514.6439728267226\n"
     ]
    },
    {
     "data": {
      "text/plain": [
       "514.6439728267226"
      ]
     },
     "execution_count": 3,
     "metadata": {},
     "output_type": "execute_result"
    }
   ],
   "source": [
    "Reservoir_module.klinkenberg_effect()"
   ]
  },
  {
   "cell_type": "code",
   "execution_count": 5,
   "id": "f7cce645",
   "metadata": {},
   "outputs": [
    {
     "name": "stdout",
     "output_type": "stream",
     "text": [
      "Pi = 8555\n",
      "Enter Flowrate in STB/D5422\n",
      "Enter Viscosity in cP545\n",
      "Enter FVF rb/STB125\n",
      "EnterPerm mD5255\n",
      "Enter Res Thickness ft445\n"
     ]
    },
    {
     "data": {
      "text/plain": [
       "-185472.38146211123"
      ]
     },
     "execution_count": 5,
     "metadata": {},
     "output_type": "execute_result"
    }
   ],
   "source": [
    "Reservoir_module.darcy_flow_pwf(141.2)"
   ]
  },
  {
   "cell_type": "code",
   "execution_count": null,
   "id": "6293a7ba",
   "metadata": {},
   "outputs": [],
   "source": []
  }
 ],
 "metadata": {
  "kernelspec": {
   "display_name": "Python 3 (ipykernel)",
   "language": "python",
   "name": "python3"
  },
  "language_info": {
   "codemirror_mode": {
    "name": "ipython",
    "version": 3
   },
   "file_extension": ".py",
   "mimetype": "text/x-python",
   "name": "python",
   "nbconvert_exporter": "python",
   "pygments_lexer": "ipython3",
   "version": "3.10.9"
  }
 },
 "nbformat": 4,
 "nbformat_minor": 5
}
