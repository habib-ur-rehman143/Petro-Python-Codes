{
 "cells": [
  {
   "cell_type": "code",
   "execution_count": 1,
   "id": "d19f9a2e",
   "metadata": {},
   "outputs": [
    {
     "name": "stdout",
     "output_type": "stream",
     "text": [
      "Hello World\n"
     ]
    }
   ],
   "source": [
    "print(\"Hello World\")"
   ]
  },
  {
   "cell_type": "code",
   "execution_count": 2,
   "id": "6d741f42",
   "metadata": {},
   "outputs": [
    {
     "name": "stdout",
     "output_type": "stream",
     "text": [
      "Hello World\n"
     ]
    }
   ],
   "source": [
    "print('Hello World')"
   ]
  },
  {
   "cell_type": "code",
   "execution_count": 4,
   "id": "3687ca5d",
   "metadata": {},
   "outputs": [
    {
     "name": "stdout",
     "output_type": "stream",
     "text": [
      "5\n"
     ]
    }
   ],
   "source": [
    "print(5)"
   ]
  },
  {
   "cell_type": "code",
   "execution_count": 9,
   "id": "f659de90",
   "metadata": {},
   "outputs": [
    {
     "name": "stdout",
     "output_type": "stream",
     "text": [
      "8\n"
     ]
    }
   ],
   "source": [
    "print('8')"
   ]
  },
  {
   "cell_type": "code",
   "execution_count": 5,
   "id": "a6a64f70",
   "metadata": {},
   "outputs": [
    {
     "name": "stdout",
     "output_type": "stream",
     "text": [
      "7.58\n"
     ]
    }
   ],
   "source": [
    "print(7.58)"
   ]
  },
  {
   "cell_type": "code",
   "execution_count": 6,
   "id": "fe1ca4ea",
   "metadata": {},
   "outputs": [
    {
     "name": "stdout",
     "output_type": "stream",
     "text": [
      "7 8 9\n"
     ]
    }
   ],
   "source": [
    "print(7,8,9)"
   ]
  },
  {
   "cell_type": "code",
   "execution_count": 7,
   "id": "2eff4f34",
   "metadata": {},
   "outputs": [
    {
     "ename": "SyntaxError",
     "evalue": "invalid syntax. Perhaps you forgot a comma? (2497053111.py, line 1)",
     "output_type": "error",
     "traceback": [
      "\u001b[1;36m  Cell \u001b[1;32mIn[7], line 1\u001b[1;36m\u001b[0m\n\u001b[1;33m    print(hello world)\u001b[0m\n\u001b[1;37m          ^\u001b[0m\n\u001b[1;31mSyntaxError\u001b[0m\u001b[1;31m:\u001b[0m invalid syntax. Perhaps you forgot a comma?\n"
     ]
    }
   ],
   "source": [
    "print(hello world)"
   ]
  },
  {
   "cell_type": "code",
   "execution_count": 8,
   "id": "89a79656",
   "metadata": {},
   "outputs": [
    {
     "ename": "NameError",
     "evalue": "name 'habib' is not defined",
     "output_type": "error",
     "traceback": [
      "\u001b[1;31m---------------------------------------------------------------------------\u001b[0m",
      "\u001b[1;31mNameError\u001b[0m                                 Traceback (most recent call last)",
      "Cell \u001b[1;32mIn[8], line 1\u001b[0m\n\u001b[1;32m----> 1\u001b[0m \u001b[38;5;28mprint\u001b[39m(\u001b[43mhabib\u001b[49m)\n",
      "\u001b[1;31mNameError\u001b[0m: name 'habib' is not defined"
     ]
    }
   ],
   "source": [
    "print(habib)"
   ]
  },
  {
   "cell_type": "code",
   "execution_count": 14,
   "id": "2c8975bf",
   "metadata": {},
   "outputs": [
    {
     "name": "stdout",
     "output_type": "stream",
     "text": [
      "Hello Petroleum\n",
      "Engineers\n",
      "How your day is going.\n"
     ]
    }
   ],
   "source": [
    "print('Hello Petroleum\\nEngineers\\nHow your day is going.')"
   ]
  },
  {
   "cell_type": "code",
   "execution_count": 15,
   "id": "9d363386",
   "metadata": {},
   "outputs": [
    {
     "name": "stdout",
     "output_type": "stream",
     "text": [
      "sahj asjhd  sadh .,lsfdkd...\n"
     ]
    }
   ],
   "source": [
    "print('sahj asjhd  sadh .,lsfdkd...')"
   ]
  },
  {
   "cell_type": "code",
   "execution_count": 16,
   "id": "224eb4a7",
   "metadata": {},
   "outputs": [
    {
     "name": "stdout",
     "output_type": "stream",
     "text": [
      ",dfmo,//f /.d,foo fl//.,foff/orwpolf,,mo//\n"
     ]
    }
   ],
   "source": [
    "print(',dfmo,//f /.d,foo fl//.,foff/orwpolf,,mo//')"
   ]
  },
  {
   "cell_type": "code",
   "execution_count": 20,
   "id": "f79cd666",
   "metadata": {
    "scrolled": false
   },
   "outputs": [
    {
     "name": "stdout",
     "output_type": "stream",
     "text": [
      "3\n",
      "reservoir engineering\n",
      "hello all 3 dfe\n"
     ]
    }
   ],
   "source": [
    "print(3)\n",
    "print(\"reservoir engineering\")\n",
    "\n",
    "print('hello all',3,'dfe')"
   ]
  },
  {
   "cell_type": "code",
   "execution_count": 27,
   "id": "b40d31a1",
   "metadata": {},
   "outputs": [],
   "source": [
    "## # is used for to write comments"
   ]
  },
  {
   "cell_type": "markdown",
   "id": "50e4c404",
   "metadata": {},
   "source": [
    "# Data Types"
   ]
  },
  {
   "cell_type": "code",
   "execution_count": 23,
   "id": "88716e91",
   "metadata": {},
   "outputs": [
    {
     "data": {
      "text/plain": [
       "5"
      ]
     },
     "execution_count": 23,
     "metadata": {},
     "output_type": "execute_result"
    }
   ],
   "source": [
    "# Integers\n",
    "5"
   ]
  },
  {
   "cell_type": "code",
   "execution_count": 24,
   "id": "8985b426",
   "metadata": {},
   "outputs": [
    {
     "data": {
      "text/plain": [
       "885"
      ]
     },
     "execution_count": 24,
     "metadata": {},
     "output_type": "execute_result"
    }
   ],
   "source": [
    "885"
   ]
  },
  {
   "cell_type": "code",
   "execution_count": 25,
   "id": "9c8cff03",
   "metadata": {},
   "outputs": [
    {
     "data": {
      "text/plain": [
       "5415623"
      ]
     },
     "execution_count": 25,
     "metadata": {},
     "output_type": "execute_result"
    }
   ],
   "source": [
    "5415623"
   ]
  },
  {
   "cell_type": "code",
   "execution_count": 29,
   "id": "d227c05d",
   "metadata": {},
   "outputs": [
    {
     "data": {
      "text/plain": [
       "int"
      ]
     },
     "execution_count": 29,
     "metadata": {},
     "output_type": "execute_result"
    }
   ],
   "source": [
    "type(56) # type function is used to know the type of thing"
   ]
  },
  {
   "cell_type": "code",
   "execution_count": 28,
   "id": "8803c6e1",
   "metadata": {},
   "outputs": [
    {
     "data": {
      "text/plain": [
       "-8"
      ]
     },
     "execution_count": 28,
     "metadata": {},
     "output_type": "execute_result"
    }
   ],
   "source": [
    "-8"
   ]
  },
  {
   "cell_type": "code",
   "execution_count": 30,
   "id": "1df5f9b7",
   "metadata": {},
   "outputs": [
    {
     "data": {
      "text/plain": [
       "52.6"
      ]
     },
     "execution_count": 30,
     "metadata": {},
     "output_type": "execute_result"
    }
   ],
   "source": [
    "# float\n",
    "52.6"
   ]
  },
  {
   "cell_type": "code",
   "execution_count": 31,
   "id": "3cc008f8",
   "metadata": {},
   "outputs": [
    {
     "data": {
      "text/plain": [
       "float"
      ]
     },
     "execution_count": 31,
     "metadata": {},
     "output_type": "execute_result"
    }
   ],
   "source": [
    "type(.152)"
   ]
  },
  {
   "cell_type": "code",
   "execution_count": 32,
   "id": "29e9a970",
   "metadata": {},
   "outputs": [
    {
     "data": {
      "text/plain": [
       "float"
      ]
     },
     "execution_count": 32,
     "metadata": {},
     "output_type": "execute_result"
    }
   ],
   "source": [
    "type(5458.235)"
   ]
  },
  {
   "cell_type": "code",
   "execution_count": 33,
   "id": "3e26da26",
   "metadata": {},
   "outputs": [],
   "source": [
    "#string: \"\",''\n"
   ]
  },
  {
   "cell_type": "code",
   "execution_count": 34,
   "id": "4b123323",
   "metadata": {},
   "outputs": [
    {
     "ename": "NameError",
     "evalue": "name 'a' is not defined",
     "output_type": "error",
     "traceback": [
      "\u001b[1;31m---------------------------------------------------------------------------\u001b[0m",
      "\u001b[1;31mNameError\u001b[0m                                 Traceback (most recent call last)",
      "Cell \u001b[1;32mIn[34], line 1\u001b[0m\n\u001b[1;32m----> 1\u001b[0m \u001b[43ma\u001b[49m\n",
      "\u001b[1;31mNameError\u001b[0m: name 'a' is not defined"
     ]
    }
   ],
   "source": [
    "a"
   ]
  },
  {
   "cell_type": "code",
   "execution_count": 35,
   "id": "f41f1b9d",
   "metadata": {},
   "outputs": [
    {
     "data": {
      "text/plain": [
       "'a'"
      ]
     },
     "execution_count": 35,
     "metadata": {},
     "output_type": "execute_result"
    }
   ],
   "source": [
    "\"a\""
   ]
  },
  {
   "cell_type": "code",
   "execution_count": 37,
   "id": "de151ca0",
   "metadata": {},
   "outputs": [
    {
     "name": "stdout",
     "output_type": "stream",
     "text": [
      "a\n"
     ]
    }
   ],
   "source": [
    "print(\"a\")"
   ]
  },
  {
   "cell_type": "code",
   "execution_count": 38,
   "id": "bebd0768",
   "metadata": {},
   "outputs": [
    {
     "data": {
      "text/plain": [
       "str"
      ]
     },
     "execution_count": 38,
     "metadata": {},
     "output_type": "execute_result"
    }
   ],
   "source": [
    "type(\"a\")"
   ]
  },
  {
   "cell_type": "code",
   "execution_count": 43,
   "id": "030e2297",
   "metadata": {},
   "outputs": [
    {
     "data": {
      "text/plain": [
       "str"
      ]
     },
     "execution_count": 43,
     "metadata": {},
     "output_type": "execute_result"
    }
   ],
   "source": [
    "type('d')"
   ]
  },
  {
   "cell_type": "code",
   "execution_count": 39,
   "id": "bcd36aaa",
   "metadata": {},
   "outputs": [
    {
     "data": {
      "text/plain": [
       "int"
      ]
     },
     "execution_count": 39,
     "metadata": {},
     "output_type": "execute_result"
    }
   ],
   "source": [
    "type(54)"
   ]
  },
  {
   "cell_type": "code",
   "execution_count": 40,
   "id": "32a006d6",
   "metadata": {},
   "outputs": [
    {
     "data": {
      "text/plain": [
       "str"
      ]
     },
     "execution_count": 40,
     "metadata": {},
     "output_type": "execute_result"
    }
   ],
   "source": [
    "type(\"48\")"
   ]
  },
  {
   "cell_type": "code",
   "execution_count": 42,
   "id": "340ddf94",
   "metadata": {},
   "outputs": [
    {
     "name": "stdout",
     "output_type": "stream",
     "text": [
      "<class 'int'>\n",
      "<class 'float'>\n",
      "<class 'str'>\n"
     ]
    }
   ],
   "source": [
    "print(type(54))\n",
    "print(type(54.4))\n",
    "print(type('54'))"
   ]
  },
  {
   "cell_type": "code",
   "execution_count": 44,
   "id": "cbaf4366",
   "metadata": {},
   "outputs": [
    {
     "data": {
      "text/plain": [
       "'+_?\"}>>@#$%RFSDFERWGRE\"'"
      ]
     },
     "execution_count": 44,
     "metadata": {},
     "output_type": "execute_result"
    }
   ],
   "source": [
    "'+_?\"}>>@#$%RFSDFERWGRE\"'"
   ]
  },
  {
   "cell_type": "code",
   "execution_count": 46,
   "id": "0182e18f",
   "metadata": {},
   "outputs": [],
   "source": [
    "# Booleans \n",
    "\n",
    "#these are basically true and false"
   ]
  },
  {
   "cell_type": "code",
   "execution_count": 48,
   "id": "149b9bef",
   "metadata": {},
   "outputs": [
    {
     "data": {
      "text/plain": [
       "True"
      ]
     },
     "execution_count": 48,
     "metadata": {},
     "output_type": "execute_result"
    }
   ],
   "source": [
    "True"
   ]
  },
  {
   "cell_type": "code",
   "execution_count": 50,
   "id": "c8c8be27",
   "metadata": {},
   "outputs": [
    {
     "data": {
      "text/plain": [
       "bool"
      ]
     },
     "execution_count": 50,
     "metadata": {},
     "output_type": "execute_result"
    }
   ],
   "source": [
    "type(True)"
   ]
  },
  {
   "cell_type": "code",
   "execution_count": 51,
   "id": "e553fd5e",
   "metadata": {},
   "outputs": [
    {
     "data": {
      "text/plain": [
       "False"
      ]
     },
     "execution_count": 51,
     "metadata": {},
     "output_type": "execute_result"
    }
   ],
   "source": [
    "False"
   ]
  },
  {
   "cell_type": "code",
   "execution_count": 52,
   "id": "e5181ad6",
   "metadata": {},
   "outputs": [
    {
     "data": {
      "text/plain": [
       "bool"
      ]
     },
     "execution_count": 52,
     "metadata": {},
     "output_type": "execute_result"
    }
   ],
   "source": [
    "type(False)"
   ]
  },
  {
   "cell_type": "code",
   "execution_count": 53,
   "id": "0d5aec77",
   "metadata": {},
   "outputs": [
    {
     "ename": "NameError",
     "evalue": "name 'Type' is not defined",
     "output_type": "error",
     "traceback": [
      "\u001b[1;31m---------------------------------------------------------------------------\u001b[0m",
      "\u001b[1;31mNameError\u001b[0m                                 Traceback (most recent call last)",
      "Cell \u001b[1;32mIn[53], line 1\u001b[0m\n\u001b[1;32m----> 1\u001b[0m \u001b[43mType\u001b[49m(\u001b[38;5;28;01mTrue\u001b[39;00m)\n",
      "\u001b[1;31mNameError\u001b[0m: name 'Type' is not defined"
     ]
    }
   ],
   "source": [
    "Type(True)"
   ]
  },
  {
   "cell_type": "code",
   "execution_count": 54,
   "id": "690d05cc",
   "metadata": {},
   "outputs": [
    {
     "ename": "NameError",
     "evalue": "name 'TRUE' is not defined",
     "output_type": "error",
     "traceback": [
      "\u001b[1;31m---------------------------------------------------------------------------\u001b[0m",
      "\u001b[1;31mNameError\u001b[0m                                 Traceback (most recent call last)",
      "Cell \u001b[1;32mIn[54], line 1\u001b[0m\n\u001b[1;32m----> 1\u001b[0m \u001b[43mTRUE\u001b[49m\n",
      "\u001b[1;31mNameError\u001b[0m: name 'TRUE' is not defined"
     ]
    }
   ],
   "source": [
    "TRUE"
   ]
  },
  {
   "cell_type": "code",
   "execution_count": 55,
   "id": "948dc3d8",
   "metadata": {},
   "outputs": [
    {
     "data": {
      "text/plain": [
       "str"
      ]
     },
     "execution_count": 55,
     "metadata": {},
     "output_type": "execute_result"
    }
   ],
   "source": [
    "type(\"True\")"
   ]
  },
  {
   "cell_type": "code",
   "execution_count": 56,
   "id": "bf643948",
   "metadata": {},
   "outputs": [
    {
     "data": {
      "text/plain": [
       "str"
      ]
     },
     "execution_count": 56,
     "metadata": {},
     "output_type": "execute_result"
    }
   ],
   "source": [
    "type('ture')"
   ]
  },
  {
   "cell_type": "code",
   "execution_count": 57,
   "id": "4f091d31",
   "metadata": {},
   "outputs": [
    {
     "data": {
      "text/plain": [
       "bool"
      ]
     },
     "execution_count": 57,
     "metadata": {},
     "output_type": "execute_result"
    }
   ],
   "source": [
    "type(True)"
   ]
  },
  {
   "cell_type": "markdown",
   "id": "8e9b3ddd",
   "metadata": {},
   "source": [
    "## Mathematical Operations"
   ]
  },
  {
   "cell_type": "code",
   "execution_count": 58,
   "id": "94872612",
   "metadata": {},
   "outputs": [
    {
     "data": {
      "text/plain": [
       "65"
      ]
     },
     "execution_count": 58,
     "metadata": {},
     "output_type": "execute_result"
    }
   ],
   "source": [
    "56+9"
   ]
  },
  {
   "cell_type": "code",
   "execution_count": 59,
   "id": "b2f209a0",
   "metadata": {},
   "outputs": [
    {
     "data": {
      "text/plain": [
       "759"
      ]
     },
     "execution_count": 59,
     "metadata": {},
     "output_type": "execute_result"
    }
   ],
   "source": [
    "857-98"
   ]
  },
  {
   "cell_type": "code",
   "execution_count": 60,
   "id": "0aade492",
   "metadata": {},
   "outputs": [
    {
     "data": {
      "text/plain": [
       "4845"
      ]
     },
     "execution_count": 60,
     "metadata": {},
     "output_type": "execute_result"
    }
   ],
   "source": [
    "51*95"
   ]
  },
  {
   "cell_type": "code",
   "execution_count": 61,
   "id": "a7e60941",
   "metadata": {},
   "outputs": [
    {
     "data": {
      "text/plain": [
       "105.2"
      ]
     },
     "execution_count": 61,
     "metadata": {},
     "output_type": "execute_result"
    }
   ],
   "source": [
    "526/5"
   ]
  },
  {
   "cell_type": "code",
   "execution_count": 62,
   "id": "ec7260ba",
   "metadata": {},
   "outputs": [
    {
     "data": {
      "text/plain": [
       "5.0"
      ]
     },
     "execution_count": 62,
     "metadata": {},
     "output_type": "execute_result"
    }
   ],
   "source": [
    "10/2"
   ]
  },
  {
   "cell_type": "code",
   "execution_count": 66,
   "id": "64064f64",
   "metadata": {},
   "outputs": [
    {
     "data": {
      "text/plain": [
       "625"
      ]
     },
     "execution_count": 66,
     "metadata": {},
     "output_type": "execute_result"
    }
   ],
   "source": [
    "## Exponential Power : by using **\n",
    "## 5 raise to 3\n",
    "5**4"
   ]
  },
  {
   "cell_type": "code",
   "execution_count": 67,
   "id": "f08c545b",
   "metadata": {},
   "outputs": [
    {
     "data": {
      "text/plain": [
       "6.2"
      ]
     },
     "execution_count": 67,
     "metadata": {},
     "output_type": "execute_result"
    }
   ],
   "source": [
    "31/5"
   ]
  },
  {
   "cell_type": "code",
   "execution_count": 68,
   "id": "7a787032",
   "metadata": {},
   "outputs": [
    {
     "data": {
      "text/plain": [
       "5"
      ]
     },
     "execution_count": 68,
     "metadata": {},
     "output_type": "execute_result"
    }
   ],
   "source": [
    "## // for quotient value\n",
    "31//6"
   ]
  },
  {
   "cell_type": "code",
   "execution_count": 69,
   "id": "ebeb5fa2",
   "metadata": {},
   "outputs": [
    {
     "data": {
      "text/plain": [
       "1"
      ]
     },
     "execution_count": 69,
     "metadata": {},
     "output_type": "execute_result"
    }
   ],
   "source": [
    "# % for Remainder\n",
    "31%6"
   ]
  },
  {
   "cell_type": "code",
   "execution_count": 70,
   "id": "a3f267fb",
   "metadata": {},
   "outputs": [],
   "source": [
    "# Operations with string"
   ]
  },
  {
   "cell_type": "code",
   "execution_count": 72,
   "id": "7e5df4cd",
   "metadata": {},
   "outputs": [
    {
     "data": {
      "text/plain": [
       "'56'"
      ]
     },
     "execution_count": 72,
     "metadata": {},
     "output_type": "execute_result"
    }
   ],
   "source": [
    "\"5\"+\"6\""
   ]
  },
  {
   "cell_type": "code",
   "execution_count": 73,
   "id": "1d988be4",
   "metadata": {},
   "outputs": [
    {
     "data": {
      "text/plain": [
       "'hello85'"
      ]
     },
     "execution_count": 73,
     "metadata": {},
     "output_type": "execute_result"
    }
   ],
   "source": [
    "\"hello\"+'85'"
   ]
  },
  {
   "cell_type": "code",
   "execution_count": 74,
   "id": "f0480d0e",
   "metadata": {},
   "outputs": [
    {
     "data": {
      "text/plain": [
       "'helloengineersintelectul'"
      ]
     },
     "execution_count": 74,
     "metadata": {},
     "output_type": "execute_result"
    }
   ],
   "source": [
    "'hello'+'engineers'+'intelectul'"
   ]
  },
  {
   "cell_type": "code",
   "execution_count": 76,
   "id": "8a20e717",
   "metadata": {},
   "outputs": [
    {
     "data": {
      "text/plain": [
       "'555'"
      ]
     },
     "execution_count": 76,
     "metadata": {},
     "output_type": "execute_result"
    }
   ],
   "source": [
    "\"5\"*3 # =>  \"5\"+\"5\"+\"5\""
   ]
  },
  {
   "cell_type": "code",
   "execution_count": 78,
   "id": "6df3c759",
   "metadata": {},
   "outputs": [
    {
     "data": {
      "text/plain": [
       "'Energy Energy Energy Energy '"
      ]
     },
     "execution_count": 78,
     "metadata": {},
     "output_type": "execute_result"
    }
   ],
   "source": [
    "'Energy '*4"
   ]
  },
  {
   "cell_type": "code",
   "execution_count": 79,
   "id": "ed49d0bb",
   "metadata": {},
   "outputs": [
    {
     "ename": "TypeError",
     "evalue": "can't multiply sequence by non-int of type 'str'",
     "output_type": "error",
     "traceback": [
      "\u001b[1;31m---------------------------------------------------------------------------\u001b[0m",
      "\u001b[1;31mTypeError\u001b[0m                                 Traceback (most recent call last)",
      "Cell \u001b[1;32mIn[79], line 1\u001b[0m\n\u001b[1;32m----> 1\u001b[0m \u001b[38;5;124;43m\"\u001b[39;49m\u001b[38;5;124;43m3\u001b[39;49m\u001b[38;5;124;43m\"\u001b[39;49m\u001b[38;5;241;43m*\u001b[39;49m\u001b[38;5;124;43m\"\u001b[39;49m\u001b[38;5;124;43m5\u001b[39;49m\u001b[38;5;124;43m\"\u001b[39;49m\n",
      "\u001b[1;31mTypeError\u001b[0m: can't multiply sequence by non-int of type 'str'"
     ]
    }
   ],
   "source": [
    "\"3\"*\"5\""
   ]
  },
  {
   "cell_type": "code",
   "execution_count": 80,
   "id": "cade4fca",
   "metadata": {},
   "outputs": [
    {
     "ename": "TypeError",
     "evalue": "unsupported operand type(s) for /: 'str' and 'int'",
     "output_type": "error",
     "traceback": [
      "\u001b[1;31m---------------------------------------------------------------------------\u001b[0m",
      "\u001b[1;31mTypeError\u001b[0m                                 Traceback (most recent call last)",
      "Cell \u001b[1;32mIn[80], line 1\u001b[0m\n\u001b[1;32m----> 1\u001b[0m \u001b[38;5;124;43m'\u001b[39;49m\u001b[38;5;124;43m3\u001b[39;49m\u001b[38;5;124;43m'\u001b[39;49m\u001b[38;5;241;43m/\u001b[39;49m\u001b[38;5;241;43m2\u001b[39;49m\n",
      "\u001b[1;31mTypeError\u001b[0m: unsupported operand type(s) for /: 'str' and 'int'"
     ]
    }
   ],
   "source": [
    "'3'/2"
   ]
  },
  {
   "cell_type": "code",
   "execution_count": 81,
   "id": "87526ffc",
   "metadata": {},
   "outputs": [
    {
     "data": {
      "text/plain": [
       "True"
      ]
     },
     "execution_count": 81,
     "metadata": {},
     "output_type": "execute_result"
    }
   ],
   "source": [
    "# Comparisons\n",
    "65>12"
   ]
  },
  {
   "cell_type": "code",
   "execution_count": 82,
   "id": "4cf54bda",
   "metadata": {},
   "outputs": [
    {
     "data": {
      "text/plain": [
       "True"
      ]
     },
     "execution_count": 82,
     "metadata": {},
     "output_type": "execute_result"
    }
   ],
   "source": [
    "78<98"
   ]
  },
  {
   "cell_type": "code",
   "execution_count": 83,
   "id": "22828511",
   "metadata": {},
   "outputs": [
    {
     "data": {
      "text/plain": [
       "False"
      ]
     },
     "execution_count": 83,
     "metadata": {},
     "output_type": "execute_result"
    }
   ],
   "source": [
    "78<54"
   ]
  },
  {
   "cell_type": "code",
   "execution_count": 84,
   "id": "d760096e",
   "metadata": {},
   "outputs": [
    {
     "ename": "SyntaxError",
     "evalue": "cannot assign to literal here. Maybe you meant '==' instead of '='? (473300113.py, line 1)",
     "output_type": "error",
     "traceback": [
      "\u001b[1;36m  Cell \u001b[1;32mIn[84], line 1\u001b[1;36m\u001b[0m\n\u001b[1;33m    55=8\u001b[0m\n\u001b[1;37m    ^\u001b[0m\n\u001b[1;31mSyntaxError\u001b[0m\u001b[1;31m:\u001b[0m cannot assign to literal here. Maybe you meant '==' instead of '='?\n"
     ]
    }
   ],
   "source": [
    "55=8"
   ]
  },
  {
   "cell_type": "code",
   "execution_count": 85,
   "id": "16b86692",
   "metadata": {},
   "outputs": [
    {
     "data": {
      "text/plain": [
       "True"
      ]
     },
     "execution_count": 85,
     "metadata": {},
     "output_type": "execute_result"
    }
   ],
   "source": [
    "55==55"
   ]
  },
  {
   "cell_type": "code",
   "execution_count": 88,
   "id": "2aae272a",
   "metadata": {},
   "outputs": [
    {
     "data": {
      "text/plain": [
       "True"
      ]
     },
     "execution_count": 88,
     "metadata": {},
     "output_type": "execute_result"
    }
   ],
   "source": [
    "# and statement =>  both statement need to be true\n",
    "45>23 & 25<45"
   ]
  },
  {
   "cell_type": "code",
   "execution_count": 89,
   "id": "f79af1e0",
   "metadata": {},
   "outputs": [
    {
     "data": {
      "text/plain": [
       "True"
      ]
     },
     "execution_count": 89,
     "metadata": {},
     "output_type": "execute_result"
    }
   ],
   "source": [
    "55>41 & 59>21"
   ]
  },
  {
   "cell_type": "code",
   "execution_count": 90,
   "id": "17e2992c",
   "metadata": {},
   "outputs": [
    {
     "data": {
      "text/plain": [
       "True"
      ]
     },
     "execution_count": 90,
     "metadata": {},
     "output_type": "execute_result"
    }
   ],
   "source": [
    "# or statement, one is true output is true\n",
    "54>87 or 55>32"
   ]
  },
  {
   "cell_type": "markdown",
   "id": "736fe23d",
   "metadata": {},
   "source": [
    "# Variable: Containers for storing values\n",
    "- A varaible is created the moment when we assign a value to it by using \"=\" sign\n"
   ]
  },
  {
   "cell_type": "code",
   "execution_count": 2,
   "id": "1b1475d7",
   "metadata": {},
   "outputs": [
    {
     "data": {
      "text/plain": [
       "5878"
      ]
     },
     "execution_count": 2,
     "metadata": {},
     "output_type": "execute_result"
    }
   ],
   "source": [
    "5878"
   ]
  },
  {
   "cell_type": "code",
   "execution_count": 3,
   "id": "7f14b10a",
   "metadata": {},
   "outputs": [],
   "source": [
    "a=5878"
   ]
  },
  {
   "cell_type": "code",
   "execution_count": 4,
   "id": "31f0e076",
   "metadata": {},
   "outputs": [
    {
     "data": {
      "text/plain": [
       "5878"
      ]
     },
     "execution_count": 4,
     "metadata": {},
     "output_type": "execute_result"
    }
   ],
   "source": [
    "a"
   ]
  },
  {
   "cell_type": "code",
   "execution_count": 5,
   "id": "0322ca57",
   "metadata": {},
   "outputs": [
    {
     "data": {
      "text/plain": [
       "'a'"
      ]
     },
     "execution_count": 5,
     "metadata": {},
     "output_type": "execute_result"
    }
   ],
   "source": [
    "\n",
    "'a'"
   ]
  },
  {
   "cell_type": "code",
   "execution_count": 6,
   "id": "a75b63da",
   "metadata": {},
   "outputs": [
    {
     "data": {
      "text/plain": [
       "'a'"
      ]
     },
     "execution_count": 6,
     "metadata": {},
     "output_type": "execute_result"
    }
   ],
   "source": [
    "\"a\""
   ]
  },
  {
   "cell_type": "code",
   "execution_count": 7,
   "id": "493dc0fa",
   "metadata": {},
   "outputs": [
    {
     "name": "stdout",
     "output_type": "stream",
     "text": [
      "5878\n"
     ]
    }
   ],
   "source": [
    "print(a)"
   ]
  },
  {
   "cell_type": "code",
   "execution_count": 10,
   "id": "cbd3ab19",
   "metadata": {},
   "outputs": [],
   "source": [
    "A=875"
   ]
  },
  {
   "cell_type": "code",
   "execution_count": 8,
   "id": "71e18011",
   "metadata": {},
   "outputs": [
    {
     "name": "stdout",
     "output_type": "stream",
     "text": [
      "a\n"
     ]
    }
   ],
   "source": [
    "print(\"a\")"
   ]
  },
  {
   "cell_type": "code",
   "execution_count": 11,
   "id": "78f8b055",
   "metadata": {},
   "outputs": [
    {
     "name": "stdout",
     "output_type": "stream",
     "text": [
      "875\n"
     ]
    }
   ],
   "source": [
    "print(A)"
   ]
  },
  {
   "cell_type": "code",
   "execution_count": 12,
   "id": "92c89a4f",
   "metadata": {},
   "outputs": [
    {
     "ename": "NameError",
     "evalue": "name 'petroleum' is not defined",
     "output_type": "error",
     "traceback": [
      "\u001b[1;31m---------------------------------------------------------------------------\u001b[0m",
      "\u001b[1;31mNameError\u001b[0m                                 Traceback (most recent call last)",
      "Cell \u001b[1;32mIn[12], line 1\u001b[0m\n\u001b[1;32m----> 1\u001b[0m b\u001b[38;5;241m=\u001b[39m\u001b[43mpetroleum\u001b[49m\n",
      "\u001b[1;31mNameError\u001b[0m: name 'petroleum' is not defined"
     ]
    }
   ],
   "source": [
    "b=petroleum"
   ]
  },
  {
   "cell_type": "code",
   "execution_count": 14,
   "id": "5aaa1daf",
   "metadata": {},
   "outputs": [],
   "source": [
    "b=\"petroleum\""
   ]
  },
  {
   "cell_type": "code",
   "execution_count": 15,
   "id": "e2aca00b",
   "metadata": {},
   "outputs": [
    {
     "data": {
      "text/plain": [
       "'petroleum'"
      ]
     },
     "execution_count": 15,
     "metadata": {},
     "output_type": "execute_result"
    }
   ],
   "source": [
    "b"
   ]
  },
  {
   "cell_type": "code",
   "execution_count": 16,
   "id": "e4dabadd",
   "metadata": {},
   "outputs": [
    {
     "ename": "SyntaxError",
     "evalue": "cannot assign to literal here. Maybe you meant '==' instead of '='? (2455046755.py, line 1)",
     "output_type": "error",
     "traceback": [
      "\u001b[1;36m  Cell \u001b[1;32mIn[16], line 1\u001b[1;36m\u001b[0m\n\u001b[1;33m    'a'= 75\u001b[0m\n\u001b[1;37m    ^\u001b[0m\n\u001b[1;31mSyntaxError\u001b[0m\u001b[1;31m:\u001b[0m cannot assign to literal here. Maybe you meant '==' instead of '='?\n"
     ]
    }
   ],
   "source": [
    "'a'= 75"
   ]
  },
  {
   "cell_type": "code",
   "execution_count": 17,
   "id": "fcb5a093",
   "metadata": {},
   "outputs": [
    {
     "ename": "SyntaxError",
     "evalue": "cannot assign to literal here. Maybe you meant '==' instead of '='? (2111829472.py, line 1)",
     "output_type": "error",
     "traceback": [
      "\u001b[1;36m  Cell \u001b[1;32mIn[17], line 1\u001b[1;36m\u001b[0m\n\u001b[1;33m    4='dsjl'\u001b[0m\n\u001b[1;37m    ^\u001b[0m\n\u001b[1;31mSyntaxError\u001b[0m\u001b[1;31m:\u001b[0m cannot assign to literal here. Maybe you meant '==' instead of '='?\n"
     ]
    }
   ],
   "source": [
    "4='dsjl'"
   ]
  },
  {
   "cell_type": "code",
   "execution_count": 18,
   "id": "24afe675",
   "metadata": {},
   "outputs": [],
   "source": [
    "a1=865"
   ]
  },
  {
   "cell_type": "code",
   "execution_count": 19,
   "id": "90ffd8d6",
   "metadata": {},
   "outputs": [
    {
     "ename": "SyntaxError",
     "evalue": "invalid decimal literal (917137887.py, line 1)",
     "output_type": "error",
     "traceback": [
      "\u001b[1;36m  Cell \u001b[1;32mIn[19], line 1\u001b[1;36m\u001b[0m\n\u001b[1;33m    1a=557\u001b[0m\n\u001b[1;37m    ^\u001b[0m\n\u001b[1;31mSyntaxError\u001b[0m\u001b[1;31m:\u001b[0m invalid decimal literal\n"
     ]
    }
   ],
   "source": [
    "1a=557"
   ]
  },
  {
   "cell_type": "code",
   "execution_count": 20,
   "id": "27d2d821",
   "metadata": {},
   "outputs": [],
   "source": [
    "a1='hello:jk'"
   ]
  },
  {
   "cell_type": "code",
   "execution_count": 21,
   "id": "1ba0e678",
   "metadata": {},
   "outputs": [
    {
     "data": {
      "text/plain": [
       "'hello:jk'"
      ]
     },
     "execution_count": 21,
     "metadata": {},
     "output_type": "execute_result"
    }
   ],
   "source": [
    "a1"
   ]
  },
  {
   "cell_type": "code",
   "execution_count": 22,
   "id": "ae1c18c3",
   "metadata": {},
   "outputs": [],
   "source": [
    "a=\"petroleum\""
   ]
  },
  {
   "cell_type": "code",
   "execution_count": 23,
   "id": "90d20171",
   "metadata": {},
   "outputs": [
    {
     "data": {
      "text/plain": [
       "'petroleum'"
      ]
     },
     "execution_count": 23,
     "metadata": {},
     "output_type": "execute_result"
    }
   ],
   "source": [
    "a"
   ]
  },
  {
   "cell_type": "code",
   "execution_count": 26,
   "id": "463f33a4",
   "metadata": {},
   "outputs": [],
   "source": [
    "petroleum= 10"
   ]
  },
  {
   "cell_type": "code",
   "execution_count": 27,
   "id": "59457592",
   "metadata": {},
   "outputs": [
    {
     "data": {
      "text/plain": [
       "10"
      ]
     },
     "execution_count": 27,
     "metadata": {},
     "output_type": "execute_result"
    }
   ],
   "source": [
    "petroleum"
   ]
  },
  {
   "cell_type": "code",
   "execution_count": 28,
   "id": "9272323b",
   "metadata": {},
   "outputs": [
    {
     "name": "stdout",
     "output_type": "stream",
     "text": [
      "10\n"
     ]
    }
   ],
   "source": [
    "print(petroleum)"
   ]
  },
  {
   "cell_type": "markdown",
   "id": "10b98eb0",
   "metadata": {},
   "source": [
    "## For comparison '=='\n",
    "## for varaible initialization '=' is used"
   ]
  },
  {
   "cell_type": "code",
   "execution_count": 29,
   "id": "f163bb77",
   "metadata": {},
   "outputs": [
    {
     "data": {
      "text/plain": [
       "False"
      ]
     },
     "execution_count": 29,
     "metadata": {},
     "output_type": "execute_result"
    }
   ],
   "source": [
    "7==9"
   ]
  },
  {
   "cell_type": "code",
   "execution_count": 30,
   "id": "07b57c3a",
   "metadata": {},
   "outputs": [
    {
     "data": {
      "text/plain": [
       "False"
      ]
     },
     "execution_count": 30,
     "metadata": {},
     "output_type": "execute_result"
    }
   ],
   "source": [
    "a==8"
   ]
  },
  {
   "cell_type": "code",
   "execution_count": 31,
   "id": "3f7c5951",
   "metadata": {},
   "outputs": [
    {
     "data": {
      "text/plain": [
       "'petroleum'"
      ]
     },
     "execution_count": 31,
     "metadata": {},
     "output_type": "execute_result"
    }
   ],
   "source": [
    "a"
   ]
  },
  {
   "cell_type": "code",
   "execution_count": 41,
   "id": "558c20f9",
   "metadata": {},
   "outputs": [],
   "source": [
    "a=\"Kakar\""
   ]
  },
  {
   "cell_type": "code",
   "execution_count": 33,
   "id": "2f60545d",
   "metadata": {},
   "outputs": [
    {
     "data": {
      "text/plain": [
       "78"
      ]
     },
     "execution_count": 33,
     "metadata": {},
     "output_type": "execute_result"
    }
   ],
   "source": [
    "a"
   ]
  },
  {
   "cell_type": "code",
   "execution_count": 34,
   "id": "6f90b63f",
   "metadata": {},
   "outputs": [
    {
     "data": {
      "text/plain": [
       "True"
      ]
     },
     "execution_count": 34,
     "metadata": {},
     "output_type": "execute_result"
    }
   ],
   "source": [
    "a==78"
   ]
  },
  {
   "cell_type": "code",
   "execution_count": 39,
   "id": "ffb8cf23",
   "metadata": {},
   "outputs": [],
   "source": [
    "a=\"hello\"\n",
    "a=\"petropython\"\n",
    "a=\"HAbib\""
   ]
  },
  {
   "cell_type": "code",
   "execution_count": 42,
   "id": "00cc5e54",
   "metadata": {},
   "outputs": [
    {
     "data": {
      "text/plain": [
       "'Kakar'"
      ]
     },
     "execution_count": 42,
     "metadata": {},
     "output_type": "execute_result"
    }
   ],
   "source": [
    "a"
   ]
  },
  {
   "cell_type": "markdown",
   "id": "2778bced",
   "metadata": {},
   "source": [
    "## Rules for the variable names\n",
    "1. cannot start with number or any special characters\n",
    "2. cannot have space between two characters, underscore is allowed."
   ]
  },
  {
   "cell_type": "code",
   "execution_count": 43,
   "id": "c98faa9a",
   "metadata": {},
   "outputs": [
    {
     "ename": "SyntaxError",
     "evalue": "invalid decimal literal (2215310065.py, line 1)",
     "output_type": "error",
     "traceback": [
      "\u001b[1;36m  Cell \u001b[1;32mIn[43], line 1\u001b[1;36m\u001b[0m\n\u001b[1;33m    1a=5\u001b[0m\n\u001b[1;37m    ^\u001b[0m\n\u001b[1;31mSyntaxError\u001b[0m\u001b[1;31m:\u001b[0m invalid decimal literal\n"
     ]
    }
   ],
   "source": [
    "1a=5"
   ]
  },
  {
   "cell_type": "code",
   "execution_count": 44,
   "id": "2fb40219",
   "metadata": {},
   "outputs": [],
   "source": [
    "a1=78"
   ]
  },
  {
   "cell_type": "code",
   "execution_count": 47,
   "id": "2a608542",
   "metadata": {},
   "outputs": [
    {
     "name": "stdout",
     "output_type": "stream",
     "text": [
      "Object `a1=78` not found.\n"
     ]
    }
   ],
   "source": [
    "?a1=78"
   ]
  },
  {
   "cell_type": "code",
   "execution_count": 48,
   "id": "a8c8f5db",
   "metadata": {},
   "outputs": [
    {
     "ename": "SyntaxError",
     "evalue": "unexpected character after line continuation character (3317944605.py, line 1)",
     "output_type": "error",
     "traceback": [
      "\u001b[1;36m  Cell \u001b[1;32mIn[48], line 1\u001b[1;36m\u001b[0m\n\u001b[1;33m    \\a=57\u001b[0m\n\u001b[1;37m     ^\u001b[0m\n\u001b[1;31mSyntaxError\u001b[0m\u001b[1;31m:\u001b[0m unexpected character after line continuation character\n"
     ]
    }
   ],
   "source": [
    "\\a=57"
   ]
  },
  {
   "cell_type": "code",
   "execution_count": 50,
   "id": "f446adaf",
   "metadata": {},
   "outputs": [
    {
     "ename": "SyntaxError",
     "evalue": "incomplete input (3887299379.py, line 1)",
     "output_type": "error",
     "traceback": [
      "\u001b[1;36m  Cell \u001b[1;32mIn[50], line 1\u001b[1;36m\u001b[0m\n\u001b[1;33m    @a:=54\u001b[0m\n\u001b[1;37m          ^\u001b[0m\n\u001b[1;31mSyntaxError\u001b[0m\u001b[1;31m:\u001b[0m incomplete input\n"
     ]
    }
   ],
   "source": [
    "@a:=54"
   ]
  },
  {
   "cell_type": "code",
   "execution_count": 51,
   "id": "9049f788",
   "metadata": {},
   "outputs": [
    {
     "ename": "SyntaxError",
     "evalue": "invalid syntax (224005795.py, line 1)",
     "output_type": "error",
     "traceback": [
      "\u001b[1;36m  Cell \u001b[1;32mIn[51], line 1\u001b[1;36m\u001b[0m\n\u001b[1;33m    a$=95\u001b[0m\n\u001b[1;37m     ^\u001b[0m\n\u001b[1;31mSyntaxError\u001b[0m\u001b[1;31m:\u001b[0m invalid syntax\n"
     ]
    }
   ],
   "source": [
    "a$=95"
   ]
  },
  {
   "cell_type": "code",
   "execution_count": 52,
   "id": "d6864867",
   "metadata": {},
   "outputs": [
    {
     "ename": "SyntaxError",
     "evalue": "invalid syntax (2395094832.py, line 1)",
     "output_type": "error",
     "traceback": [
      "\u001b[1;36m  Cell \u001b[1;32mIn[52], line 1\u001b[1;36m\u001b[0m\n\u001b[1;33m    rock porosity=.5\u001b[0m\n\u001b[1;37m         ^\u001b[0m\n\u001b[1;31mSyntaxError\u001b[0m\u001b[1;31m:\u001b[0m invalid syntax\n"
     ]
    }
   ],
   "source": [
    "rock porosity=.5"
   ]
  },
  {
   "cell_type": "code",
   "execution_count": 53,
   "id": "87b17384",
   "metadata": {},
   "outputs": [],
   "source": [
    "rock_porosity=.5"
   ]
  },
  {
   "cell_type": "code",
   "execution_count": 54,
   "id": "648ca828",
   "metadata": {},
   "outputs": [
    {
     "data": {
      "text/plain": [
       "0.5"
      ]
     },
     "execution_count": 54,
     "metadata": {},
     "output_type": "execute_result"
    }
   ],
   "source": [
    "rock_porosity"
   ]
  },
  {
   "cell_type": "code",
   "execution_count": 55,
   "id": "c8c67f28",
   "metadata": {},
   "outputs": [
    {
     "data": {
      "text/plain": [
       "float"
      ]
     },
     "execution_count": 55,
     "metadata": {},
     "output_type": "execute_result"
    }
   ],
   "source": [
    "type(rock_porosity)"
   ]
  },
  {
   "cell_type": "code",
   "execution_count": 57,
   "id": "133b205e",
   "metadata": {},
   "outputs": [
    {
     "data": {
      "text/plain": [
       "2.0"
      ]
     },
     "execution_count": 57,
     "metadata": {},
     "output_type": "execute_result"
    }
   ],
   "source": [
    "rock_porosity*4"
   ]
  },
  {
   "cell_type": "code",
   "execution_count": 61,
   "id": "6a6f75ab",
   "metadata": {},
   "outputs": [],
   "source": [
    "a=12"
   ]
  },
  {
   "cell_type": "code",
   "execution_count": 62,
   "id": "e646ec62",
   "metadata": {},
   "outputs": [
    {
     "data": {
      "text/plain": [
       "60"
      ]
     },
     "execution_count": 62,
     "metadata": {},
     "output_type": "execute_result"
    }
   ],
   "source": [
    "a*5"
   ]
  },
  {
   "cell_type": "code",
   "execution_count": 63,
   "id": "36e5842d",
   "metadata": {},
   "outputs": [
    {
     "data": {
      "text/plain": [
       "'555555555555'"
      ]
     },
     "execution_count": 63,
     "metadata": {},
     "output_type": "execute_result"
    }
   ],
   "source": [
    "a*\"5\""
   ]
  },
  {
   "cell_type": "code",
   "execution_count": 64,
   "id": "932a1a21",
   "metadata": {},
   "outputs": [
    {
     "name": "stdout",
     "output_type": "stream",
     "text": [
      "0.7\n",
      "-0.3\n",
      "0.1\n",
      "0.4\n"
     ]
    }
   ],
   "source": [
    "poro_1=0.2\n",
    "poro_2=0.5\n",
    "print(poro_1+poro_2)\n",
    "print(poro_1-poro_2)\n",
    "print(poro_1*poro_2)\n",
    "print(poro_1/poro_2)"
   ]
  },
  {
   "cell_type": "markdown",
   "id": "e42a01de",
   "metadata": {},
   "source": [
    "## Complex Numbers"
   ]
  },
  {
   "cell_type": "code",
   "execution_count": 65,
   "id": "544c2050",
   "metadata": {},
   "outputs": [],
   "source": [
    "c=4+8j"
   ]
  },
  {
   "cell_type": "code",
   "execution_count": 66,
   "id": "e590016b",
   "metadata": {},
   "outputs": [
    {
     "data": {
      "text/plain": [
       "complex"
      ]
     },
     "execution_count": 66,
     "metadata": {},
     "output_type": "execute_result"
    }
   ],
   "source": [
    "type(c)"
   ]
  },
  {
   "cell_type": "code",
   "execution_count": 67,
   "id": "bfa35128",
   "metadata": {},
   "outputs": [
    {
     "data": {
      "text/plain": [
       "(4+8j)"
      ]
     },
     "execution_count": 67,
     "metadata": {},
     "output_type": "execute_result"
    }
   ],
   "source": [
    "c"
   ]
  },
  {
   "cell_type": "code",
   "execution_count": 70,
   "id": "ec102d47",
   "metadata": {},
   "outputs": [
    {
     "data": {
      "text/plain": [
       "4.0"
      ]
     },
     "execution_count": 70,
     "metadata": {},
     "output_type": "execute_result"
    }
   ],
   "source": [
    "c.real"
   ]
  },
  {
   "cell_type": "code",
   "execution_count": 71,
   "id": "7ef4e270",
   "metadata": {},
   "outputs": [
    {
     "data": {
      "text/plain": [
       "8.0"
      ]
     },
     "execution_count": 71,
     "metadata": {},
     "output_type": "execute_result"
    }
   ],
   "source": [
    "c.imag"
   ]
  },
  {
   "cell_type": "code",
   "execution_count": 72,
   "id": "f78d8cf5",
   "metadata": {},
   "outputs": [
    {
     "data": {
      "text/plain": [
       "(4-8j)"
      ]
     },
     "execution_count": 72,
     "metadata": {},
     "output_type": "execute_result"
    }
   ],
   "source": [
    "c.conjugate()"
   ]
  },
  {
   "cell_type": "markdown",
   "id": "7cae7dd8",
   "metadata": {},
   "source": [
    "## input = taking inputs from user"
   ]
  },
  {
   "cell_type": "code",
   "execution_count": 73,
   "id": "a0b33bb8",
   "metadata": {},
   "outputs": [
    {
     "name": "stdout",
     "output_type": "stream",
     "text": [
      "KADGDKFGA\n"
     ]
    },
    {
     "data": {
      "text/plain": [
       "'KADGDKFGA'"
      ]
     },
     "execution_count": 73,
     "metadata": {},
     "output_type": "execute_result"
    }
   ],
   "source": [
    "input()"
   ]
  },
  {
   "cell_type": "code",
   "execution_count": 74,
   "id": "6892d2d3",
   "metadata": {},
   "outputs": [
    {
     "name": "stdout",
     "output_type": "stream",
     "text": [
      "0.8\n"
     ]
    }
   ],
   "source": [
    "porosity=input()"
   ]
  },
  {
   "cell_type": "code",
   "execution_count": 75,
   "id": "feb90c3d",
   "metadata": {},
   "outputs": [
    {
     "data": {
      "text/plain": [
       "'0.8'"
      ]
     },
     "execution_count": 75,
     "metadata": {},
     "output_type": "execute_result"
    }
   ],
   "source": [
    "porosity"
   ]
  },
  {
   "cell_type": "code",
   "execution_count": 76,
   "id": "14cb2baa",
   "metadata": {},
   "outputs": [],
   "source": [
    "# inputs always take input as a 'string' type\n"
   ]
  },
  {
   "cell_type": "code",
   "execution_count": 79,
   "id": "8a444670",
   "metadata": {},
   "outputs": [
    {
     "name": "stdout",
     "output_type": "stream",
     "text": [
      "enter the formation porosity: 0.6\n"
     ]
    }
   ],
   "source": [
    "porosity=input(\"enter the formation porosity: \")"
   ]
  },
  {
   "cell_type": "code",
   "execution_count": 80,
   "id": "1b284551",
   "metadata": {},
   "outputs": [
    {
     "data": {
      "text/plain": [
       "'0.6'"
      ]
     },
     "execution_count": 80,
     "metadata": {},
     "output_type": "execute_result"
    }
   ],
   "source": [
    "porosity"
   ]
  },
  {
   "cell_type": "code",
   "execution_count": 81,
   "id": "8eb9d01a",
   "metadata": {},
   "outputs": [
    {
     "data": {
      "text/plain": [
       "'0.60.60.60.6'"
      ]
     },
     "execution_count": 81,
     "metadata": {},
     "output_type": "execute_result"
    }
   ],
   "source": [
    "porosity*4"
   ]
  },
  {
   "cell_type": "code",
   "execution_count": 84,
   "id": "793b1596",
   "metadata": {},
   "outputs": [],
   "source": [
    "#type conversion\n",
    "porosity = float(porosity)"
   ]
  },
  {
   "cell_type": "code",
   "execution_count": 85,
   "id": "918c262f",
   "metadata": {},
   "outputs": [
    {
     "data": {
      "text/plain": [
       "0.6"
      ]
     },
     "execution_count": 85,
     "metadata": {},
     "output_type": "execute_result"
    }
   ],
   "source": [
    "porosity"
   ]
  },
  {
   "cell_type": "code",
   "execution_count": 86,
   "id": "67f33c17",
   "metadata": {},
   "outputs": [
    {
     "data": {
      "text/plain": [
       "3.0"
      ]
     },
     "execution_count": 86,
     "metadata": {},
     "output_type": "execute_result"
    }
   ],
   "source": [
    "porosity*5"
   ]
  },
  {
   "cell_type": "code",
   "execution_count": 87,
   "id": "c6d75ee8",
   "metadata": {},
   "outputs": [
    {
     "data": {
      "text/plain": [
       "float"
      ]
     },
     "execution_count": 87,
     "metadata": {},
     "output_type": "execute_result"
    }
   ],
   "source": [
    "type(porosity)"
   ]
  },
  {
   "cell_type": "code",
   "execution_count": 88,
   "id": "8bfe3eb3",
   "metadata": {},
   "outputs": [
    {
     "name": "stdout",
     "output_type": "stream",
     "text": [
      "enter the formation porosity: 0.8\n"
     ]
    }
   ],
   "source": [
    "porosity=float(input(\"enter the formation porosity: \"))"
   ]
  },
  {
   "cell_type": "code",
   "execution_count": 89,
   "id": "a2635d90",
   "metadata": {},
   "outputs": [
    {
     "data": {
      "text/plain": [
       "float"
      ]
     },
     "execution_count": 89,
     "metadata": {},
     "output_type": "execute_result"
    }
   ],
   "source": [
    "type(porosity)"
   ]
  },
  {
   "cell_type": "code",
   "execution_count": 95,
   "id": "adfd72e8",
   "metadata": {},
   "outputs": [
    {
     "data": {
      "text/plain": [
       "7.2"
      ]
     },
     "execution_count": 95,
     "metadata": {},
     "output_type": "execute_result"
    }
   ],
   "source": [
    "porosity*9"
   ]
  },
  {
   "cell_type": "code",
   "execution_count": 90,
   "id": "fdcc3854",
   "metadata": {},
   "outputs": [],
   "source": [
    "a=8"
   ]
  },
  {
   "cell_type": "code",
   "execution_count": 91,
   "id": "273265bd",
   "metadata": {},
   "outputs": [
    {
     "data": {
      "text/plain": [
       "int"
      ]
     },
     "execution_count": 91,
     "metadata": {},
     "output_type": "execute_result"
    }
   ],
   "source": [
    "type(a)"
   ]
  },
  {
   "cell_type": "code",
   "execution_count": 92,
   "id": "c9a72977",
   "metadata": {},
   "outputs": [
    {
     "data": {
      "text/plain": [
       "8.0"
      ]
     },
     "execution_count": 92,
     "metadata": {},
     "output_type": "execute_result"
    }
   ],
   "source": [
    "float(a)"
   ]
  },
  {
   "cell_type": "code",
   "execution_count": 93,
   "id": "2d418153",
   "metadata": {},
   "outputs": [],
   "source": [
    "a= float(a)"
   ]
  },
  {
   "cell_type": "code",
   "execution_count": 94,
   "id": "6fe415ce",
   "metadata": {},
   "outputs": [
    {
     "data": {
      "text/plain": [
       "8.0"
      ]
     },
     "execution_count": 94,
     "metadata": {},
     "output_type": "execute_result"
    }
   ],
   "source": [
    "a"
   ]
  },
  {
   "cell_type": "code",
   "execution_count": 96,
   "id": "637663d8",
   "metadata": {},
   "outputs": [
    {
     "data": {
      "text/plain": [
       "float"
      ]
     },
     "execution_count": 96,
     "metadata": {},
     "output_type": "execute_result"
    }
   ],
   "source": [
    "type(a)"
   ]
  },
  {
   "cell_type": "code",
   "execution_count": 97,
   "id": "b3ec99f8",
   "metadata": {},
   "outputs": [
    {
     "data": {
      "text/plain": [
       "8"
      ]
     },
     "execution_count": 97,
     "metadata": {},
     "output_type": "execute_result"
    }
   ],
   "source": [
    "int(a)"
   ]
  },
  {
   "cell_type": "code",
   "execution_count": 101,
   "id": "b5cfed6e",
   "metadata": {},
   "outputs": [],
   "source": [
    "a = int(a)"
   ]
  },
  {
   "cell_type": "code",
   "execution_count": 103,
   "id": "56e1cf1a",
   "metadata": {},
   "outputs": [
    {
     "data": {
      "text/plain": [
       "8"
      ]
     },
     "execution_count": 103,
     "metadata": {},
     "output_type": "execute_result"
    }
   ],
   "source": [
    "a"
   ]
  },
  {
   "cell_type": "code",
   "execution_count": null,
   "id": "7e2d1bdd",
   "metadata": {},
   "outputs": [],
   "source": []
  },
  {
   "cell_type": "code",
   "execution_count": 102,
   "id": "a8cc4a18",
   "metadata": {},
   "outputs": [
    {
     "data": {
      "text/plain": [
       "8"
      ]
     },
     "execution_count": 102,
     "metadata": {},
     "output_type": "execute_result"
    }
   ],
   "source": [
    "a"
   ]
  },
  {
   "cell_type": "code",
   "execution_count": 104,
   "id": "731a426c",
   "metadata": {},
   "outputs": [],
   "source": [
    "a=str(a)"
   ]
  },
  {
   "cell_type": "code",
   "execution_count": 105,
   "id": "2f30b617",
   "metadata": {},
   "outputs": [
    {
     "data": {
      "text/plain": [
       "'8'"
      ]
     },
     "execution_count": 105,
     "metadata": {},
     "output_type": "execute_result"
    }
   ],
   "source": [
    "a"
   ]
  },
  {
   "cell_type": "code",
   "execution_count": 106,
   "id": "affc7d13",
   "metadata": {},
   "outputs": [],
   "source": [
    "b=\"hello\""
   ]
  },
  {
   "cell_type": "code",
   "execution_count": 107,
   "id": "130229e3",
   "metadata": {},
   "outputs": [
    {
     "ename": "NameError",
     "evalue": "name 'ploat' is not defined",
     "output_type": "error",
     "traceback": [
      "\u001b[1;31m---------------------------------------------------------------------------\u001b[0m",
      "\u001b[1;31mNameError\u001b[0m                                 Traceback (most recent call last)",
      "Cell \u001b[1;32mIn[107], line 1\u001b[0m\n\u001b[1;32m----> 1\u001b[0m \u001b[43mploat\u001b[49m(b)\n",
      "\u001b[1;31mNameError\u001b[0m: name 'ploat' is not defined"
     ]
    }
   ],
   "source": [
    "ploat(b)"
   ]
  },
  {
   "cell_type": "code",
   "execution_count": 108,
   "id": "177a1b61",
   "metadata": {},
   "outputs": [],
   "source": [
    "c= \".236\""
   ]
  },
  {
   "cell_type": "code",
   "execution_count": 109,
   "id": "b2fbf19d",
   "metadata": {},
   "outputs": [
    {
     "data": {
      "text/plain": [
       "'.236'"
      ]
     },
     "execution_count": 109,
     "metadata": {},
     "output_type": "execute_result"
    }
   ],
   "source": [
    "c"
   ]
  },
  {
   "cell_type": "code",
   "execution_count": 110,
   "id": "bd6d1340",
   "metadata": {},
   "outputs": [
    {
     "data": {
      "text/plain": [
       "0.236"
      ]
     },
     "execution_count": 110,
     "metadata": {},
     "output_type": "execute_result"
    }
   ],
   "source": [
    "float(c)"
   ]
  },
  {
   "cell_type": "code",
   "execution_count": 111,
   "id": "f8a378ad",
   "metadata": {},
   "outputs": [
    {
     "ename": "ValueError",
     "evalue": "invalid literal for int() with base 10: '.236'",
     "output_type": "error",
     "traceback": [
      "\u001b[1;31m---------------------------------------------------------------------------\u001b[0m",
      "\u001b[1;31mValueError\u001b[0m                                Traceback (most recent call last)",
      "Cell \u001b[1;32mIn[111], line 1\u001b[0m\n\u001b[1;32m----> 1\u001b[0m \u001b[38;5;28;43mint\u001b[39;49m\u001b[43m(\u001b[49m\u001b[43mc\u001b[49m\u001b[43m)\u001b[49m\n",
      "\u001b[1;31mValueError\u001b[0m: invalid literal for int() with base 10: '.236'"
     ]
    }
   ],
   "source": [
    "int(c)"
   ]
  },
  {
   "cell_type": "code",
   "execution_count": 112,
   "id": "344e598e",
   "metadata": {},
   "outputs": [
    {
     "data": {
      "text/plain": [
       "78"
      ]
     },
     "execution_count": 112,
     "metadata": {},
     "output_type": "execute_result"
    }
   ],
   "source": [
    "int(78.65)"
   ]
  },
  {
   "cell_type": "code",
   "execution_count": 113,
   "id": "4a3f486e",
   "metadata": {},
   "outputs": [
    {
     "data": {
      "text/plain": [
       "0"
      ]
     },
     "execution_count": 113,
     "metadata": {},
     "output_type": "execute_result"
    }
   ],
   "source": [
    "int(0.58)"
   ]
  },
  {
   "cell_type": "code",
   "execution_count": 128,
   "id": "627a7b32",
   "metadata": {},
   "outputs": [
    {
     "name": "stdout",
     "output_type": "stream",
     "text": [
      "enter the formation porosity: 0.5\n",
      "enter the formation permeability: 45\n",
      "formation: porosity is 0.5, and permeability is 25\n"
     ]
    }
   ],
   "source": [
    "porosity=float(input(\"enter the formation porosity: \"))\n",
    "permeability=float(input(\"enter the formation permeability: \"))\n",
    "print('formation: porosity is 0.5, and permeability is 25')"
   ]
  },
  {
   "cell_type": "code",
   "execution_count": 115,
   "id": "fee5349b",
   "metadata": {},
   "outputs": [],
   "source": [
    "# string formation : making your sting dynamic in nature"
   ]
  },
  {
   "cell_type": "code",
   "execution_count": 129,
   "id": "db45d1ab",
   "metadata": {},
   "outputs": [
    {
     "data": {
      "text/plain": [
       "'Formation porosity is 0.5, and permeability is 45.0'"
      ]
     },
     "execution_count": 129,
     "metadata": {},
     "output_type": "execute_result"
    }
   ],
   "source": [
    "f\"Formation porosity is {porosity}, and permeability is {permeability}\""
   ]
  },
  {
   "cell_type": "code",
   "execution_count": 131,
   "id": "20c78a94",
   "metadata": {},
   "outputs": [
    {
     "name": "stdout",
     "output_type": "stream",
     "text": [
      "enter the formation porosity: 0.5\n",
      "enter the formation permeability: 48\n"
     ]
    },
    {
     "data": {
      "text/plain": [
       "'Formation porosity is 50.0%, and permeability is 48.0'"
      ]
     },
     "execution_count": 131,
     "metadata": {},
     "output_type": "execute_result"
    }
   ],
   "source": [
    "porosity=float(input(\"enter the formation porosity: \"))\n",
    "permeability=float(input(\"enter the formation permeability: \"))\n",
    "f\"Formation porosity is {porosity*100}%, and permeability is {permeability}\""
   ]
  },
  {
   "cell_type": "markdown",
   "id": "2a54a4e9",
   "metadata": {},
   "source": [
    "## Questions and answers"
   ]
  },
  {
   "cell_type": "code",
   "execution_count": 133,
   "id": "4e5549e0",
   "metadata": {},
   "outputs": [
    {
     "name": "stdout",
     "output_type": "stream",
     "text": [
      "Habib Ur\n",
      "Rehman\n"
     ]
    }
   ],
   "source": [
    "print(\"Habib Ur\\nRehman\")"
   ]
  },
  {
   "cell_type": "code",
   "execution_count": 134,
   "id": "b1fba481",
   "metadata": {},
   "outputs": [
    {
     "data": {
      "text/plain": [
       "366"
      ]
     },
     "execution_count": 134,
     "metadata": {},
     "output_type": "execute_result"
    }
   ],
   "source": [
    "122*3"
   ]
  },
  {
   "cell_type": "code",
   "execution_count": 135,
   "id": "cfc82907",
   "metadata": {},
   "outputs": [
    {
     "data": {
      "text/plain": [
       "'112112112'"
      ]
     },
     "execution_count": 135,
     "metadata": {},
     "output_type": "execute_result"
    }
   ],
   "source": [
    "\"112\"*3"
   ]
  },
  {
   "cell_type": "code",
   "execution_count": 136,
   "id": "1a4404b7",
   "metadata": {},
   "outputs": [
    {
     "data": {
      "text/plain": [
       "str"
      ]
     },
     "execution_count": 136,
     "metadata": {},
     "output_type": "execute_result"
    }
   ],
   "source": [
    "type(\"3456gvdcf\"*6)"
   ]
  },
  {
   "cell_type": "code",
   "execution_count": 137,
   "id": "3717c091",
   "metadata": {},
   "outputs": [
    {
     "name": "stdout",
     "output_type": "stream",
     "text": [
      "OilAnalytic\n"
     ]
    }
   ],
   "source": [
    "print(\"Oil\"+\"Analytic\")"
   ]
  },
  {
   "cell_type": "code",
   "execution_count": 138,
   "id": "f323bb01",
   "metadata": {},
   "outputs": [
    {
     "data": {
      "text/plain": [
       "1"
      ]
     },
     "execution_count": 138,
     "metadata": {},
     "output_type": "execute_result"
    }
   ],
   "source": [
    "1256473%72"
   ]
  },
  {
   "cell_type": "code",
   "execution_count": null,
   "id": "70552139",
   "metadata": {},
   "outputs": [],
   "source": []
  }
 ],
 "metadata": {
  "kernelspec": {
   "display_name": "Python 3 (ipykernel)",
   "language": "python",
   "name": "python3"
  },
  "language_info": {
   "codemirror_mode": {
    "name": "ipython",
    "version": 3
   },
   "file_extension": ".py",
   "mimetype": "text/x-python",
   "name": "python",
   "nbconvert_exporter": "python",
   "pygments_lexer": "ipython3",
   "version": "3.10.9"
  }
 },
 "nbformat": 4,
 "nbformat_minor": 5
}
