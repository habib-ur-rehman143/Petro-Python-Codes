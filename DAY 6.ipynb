{
 "cells": [
  {
   "cell_type": "markdown",
   "id": "c0e1ab3a",
   "metadata": {},
   "source": [
    "## DAY 6"
   ]
  },
  {
   "cell_type": "markdown",
   "id": "65c47822",
   "metadata": {},
   "source": [
    "## While loop: to repeat a block of code again and again, until the condition is satisfied\n",
    "- block of code is executed repeatedly: this is also iteration"
   ]
  },
  {
   "cell_type": "code",
   "execution_count": 1,
   "id": "14ace694",
   "metadata": {},
   "outputs": [
    {
     "name": "stdout",
     "output_type": "stream",
     "text": [
      "a is less than 7\n",
      "value of a before operation is 2\n",
      "value of a after operation is 3\n",
      "a is less than 7\n",
      "value of a before operation is 3\n",
      "value of a after operation is 4\n",
      "a is less than 7\n",
      "value of a before operation is 4\n",
      "value of a after operation is 5\n",
      "a is less than 7\n",
      "value of a before operation is 5\n",
      "value of a after operation is 6\n",
      "a is less than 7\n",
      "value of a before operation is 6\n",
      "value of a after operation is 7\n",
      "exit while\n"
     ]
    }
   ],
   "source": [
    "a=2\n",
    "while a<7:\n",
    "    print('a is less than 7')\n",
    "    print(f'value of a before operation is {a}')\n",
    "    a=a+1\n",
    "    print(f'value of a after operation is {a}')\n",
    "print('exit while')"
   ]
  },
  {
   "cell_type": "code",
   "execution_count": null,
   "id": "64075782",
   "metadata": {},
   "outputs": [],
   "source": [
    "while True:\n",
    "    print('infinite loop')"
   ]
  },
  {
   "cell_type": "code",
   "execution_count": null,
   "id": "72af7b50",
   "metadata": {},
   "outputs": [],
   "source": [
    "a=2\n",
    "while a<7:\n",
    "    print('a is less than 7')"
   ]
  },
  {
   "cell_type": "code",
   "execution_count": 2,
   "id": "4b229e10",
   "metadata": {},
   "outputs": [
    {
     "name": "stdout",
     "output_type": "stream",
     "text": [
      "2000 is not abnormal increasing by 100\n",
      "2100 is not abnormal increasing by 100\n",
      "2200 is not abnormal increasing by 100\n",
      "2300 is not abnormal increasing by 100\n",
      "2400 is not abnormal increasing by 100\n",
      "2500 is abmormal\n"
     ]
    }
   ],
   "source": [
    "pressure=2000\n",
    "while pressure<2500:\n",
    "    print(f'{pressure} is not abnormal increasing by 100')\n",
    "    pressure+=100 # some process that is increasing my hydrostatic pressure\n",
    "    \n",
    "print(f'{pressure} is abmormal')"
   ]
  },
  {
   "cell_type": "code",
   "execution_count": 9,
   "id": "2d8a5c4e",
   "metadata": {},
   "outputs": [],
   "source": [
    "api=[]\n",
    "i=0\n",
    "specific_gravity=(0.2,0.3,0.4,0.5,0.6,0.8,0.9)\n",
    "while len(api)<len(specific_gravity):\n",
    "    ap = (141.5/specific_gravity[i]) -131.5\n",
    "    api.append(ap)\n",
    "    i+=1"
   ]
  },
  {
   "cell_type": "code",
   "execution_count": 10,
   "id": "bacb0eab",
   "metadata": {},
   "outputs": [
    {
     "data": {
      "text/plain": [
       "[576.0,\n",
       " 340.1666666666667,\n",
       " 222.25,\n",
       " 151.5,\n",
       " 104.33333333333334,\n",
       " 45.375,\n",
       " 25.72222222222223]"
      ]
     },
     "execution_count": 10,
     "metadata": {},
     "output_type": "execute_result"
    }
   ],
   "source": [
    "api"
   ]
  },
  {
   "cell_type": "code",
   "execution_count": 17,
   "id": "e7cb99b1",
   "metadata": {},
   "outputs": [],
   "source": [
    "api=[]\n",
    "for i in specific_gravity:\n",
    "    ap=(141.5/i)-131.5\n",
    "    api.append(ap)"
   ]
  },
  {
   "cell_type": "code",
   "execution_count": 18,
   "id": "6c325542",
   "metadata": {},
   "outputs": [
    {
     "data": {
      "text/plain": [
       "[576.0,\n",
       " 340.1666666666667,\n",
       " 222.25,\n",
       " 151.5,\n",
       " 104.33333333333334,\n",
       " 45.375,\n",
       " 25.72222222222223]"
      ]
     },
     "execution_count": 18,
     "metadata": {},
     "output_type": "execute_result"
    }
   ],
   "source": [
    "api"
   ]
  },
  {
   "cell_type": "markdown",
   "id": "d03dc81d",
   "metadata": {},
   "source": [
    "## WHILE LOOP WITH A RESERVOIR ENGINEERING EXAMPLE\n",
    " ##NEWTON RAPHSON METHOD\n",
    " \n",
    " - POWERFUL ITERATION METHOD FOR FINDING THE ROOT OF A COMPLEX EQUATION F(X)=0\n",
    "     Example: x^3 +sin(x) = 0\n",
    "     \n",
    "     \n",
    "-Methodology:\n",
    "Bring everything to lhs so that f(x)= 0::\n",
    "\n",
    "x^3 = -sinx\n",
    "\n",
    "x^3+sinx = 0\n",
    "\n",
    "Find the f'(X), first derivative offunction f(x) wrt x. f'(x)= 3x^2+cos(x)\n",
    "\n",
    "Use the following algorithm & repeat over and over multiple iterations till your solution converges\n",
    "\n",
    "Repeat for N iterations: xnew = xold - (f(xold)/f'(xold))\n",
    "Example: Square root of a number\n",
    "x^2-number = 0"
   ]
  },
  {
   "cell_type": "markdown",
   "id": "35dce54d",
   "metadata": {},
   "source": [
    "        ## Ex : quare root of a number\n",
    "        x^2-number =0"
   ]
  },
  {
   "cell_type": "code",
   "execution_count": 19,
   "id": "49ab092a",
   "metadata": {},
   "outputs": [
    {
     "data": {
      "text/plain": [
       "45454"
      ]
     },
     "execution_count": 19,
     "metadata": {},
     "output_type": "execute_result"
    }
   ],
   "source": [
    "abs(-45454)"
   ]
  },
  {
   "cell_type": "code",
   "execution_count": 20,
   "id": "ab645197",
   "metadata": {},
   "outputs": [
    {
     "name": "stdout",
     "output_type": "stream",
     "text": [
      " Enter the number to be square rooted -- 81\n",
      "Enter the initial guess(x_0): 56\n",
      "xold value is 56.0\n",
      "xnew value after 1 iteration of newton raphson is 28.723214285714285\n",
      "xold value is 28.723214285714285\n",
      "xnew value after 1 iteration of newton raphson is 15.771616468315644\n",
      "xold value is 15.771616468315644\n",
      "xnew value after 1 iteration of newton raphson is 10.45371242339311\n",
      "xold value is 10.45371242339311\n",
      "xnew value after 1 iteration of newton raphson is 9.101077957970148\n",
      "xold value is 9.101077957970148\n",
      "xnew value after 1 iteration of newton raphson is 9.00056129359811\n",
      "xold value is 9.00056129359811\n",
      "xnew value after 1 iteration of newton raphson is 9.000000017501714\n",
      "Result: Square root of 81.0 is 9.000000017501714\n",
      "Result: Actual Square root of 81.0 is 9.0\n"
     ]
    }
   ],
   "source": [
    "n = float(input(\" Enter the number to be square rooted -- \"))\n",
    "x = float(input('Enter the initial guess(x_0): '))\n",
    "while (abs(x**2-n)>0.000001):\n",
    "    print(f\"xold value is {x}\")\n",
    "    x = x -((x**2-n)/(2*x))\n",
    "    print(f\"xnew value after 1 iteration of newton raphson is {x}\")\n",
    "\n",
    "print(f\"Result: Square root of {n} is {x}\")\n",
    "print(f\"Result: Actual Square root of {n} is {n**0.5}\")\n"
   ]
  },
  {
   "cell_type": "markdown",
   "id": "01bdcb39",
   "metadata": {},
   "source": [
    "klinkenberg Calculation of Absolute Permeability:\n",
    "k(g) = k(l) + c(1/pm)\n",
    "\n",
    "6.9kL^(0.64) +pmkL -pmkG = 0\n",
    "\n",
    "f(kL) = 6.9kL^(0.64) +pmkL -pmkG\n",
    "\n",
    "f'(kL) = 6.90.64kl^(0.64-1) +pm\n",
    "\n",
    "f'(kL) = 4.416kl^(-0.36) + pm"
   ]
  },
  {
   "cell_type": "code",
   "execution_count": 21,
   "id": "f18ca6bf",
   "metadata": {},
   "outputs": [
    {
     "name": "stdout",
     "output_type": "stream",
     "text": [
      "Enter the initial guess of absolute permeability(kl_0): 56\n",
      "Enter the Mean Pressure: 4500\n",
      "Enter k(air) calculated in lab at pressure pm: 40\n",
      "The final value of Perm K is 39.98375042394646\n"
     ]
    }
   ],
   "source": [
    "k = float(input('Enter the initial guess of absolute permeability(kl_0): '))\n",
    "\n",
    "pm = float(input('Enter the Mean Pressure: '))\n",
    "\n",
    "kg = float(input(\"Enter k(air) calculated in lab at pressure pm: \"))\n",
    "\n",
    "while abs(6.9*(k**0.64)+pm*k-pm*kg)>0.00001:\n",
    "    k = k - (6.9*(k**0.64) + pm*k - pm*kg)/(4.416*(k**(-0.36)) + pm)\n",
    "\n",
    "print(f\"The final value of Perm K is {k}\")"
   ]
  },
  {
   "cell_type": "markdown",
   "id": "6b2ec406",
   "metadata": {},
   "source": [
    "## fuction in python\n",
    "-Make code clean\n",
    "\n",
    "-Helps prevent from writing same thing again and again"
   ]
  },
  {
   "cell_type": "code",
   "execution_count": 22,
   "id": "e51d32d1",
   "metadata": {},
   "outputs": [],
   "source": [
    "#function definition \n",
    "\n",
    "def my_function_name(parameter1,parameter2):\n",
    "    print(f'The parameters are: {parameter1} and {parameter2}')\n",
    "    c = parameter1+parameter2\n",
    "    print(f'The addition of parameters results in {c}')\n"
   ]
  },
  {
   "cell_type": "code",
   "execution_count": 23,
   "id": "3e96101c",
   "metadata": {},
   "outputs": [
    {
     "name": "stdout",
     "output_type": "stream",
     "text": [
      "The parameters are: 10 and 20\n",
      "The addition of parameters results in 30\n"
     ]
    }
   ],
   "source": [
    "## Function call/execute\n",
    "\n",
    "my_function_name(10,20)"
   ]
  },
  {
   "cell_type": "code",
   "execution_count": 25,
   "id": "d79006ec",
   "metadata": {},
   "outputs": [
    {
     "ename": "TypeError",
     "evalue": "my_function_name() takes 2 positional arguments but 3 were given",
     "output_type": "error",
     "traceback": [
      "\u001b[1;31m---------------------------------------------------------------------------\u001b[0m",
      "\u001b[1;31mTypeError\u001b[0m                                 Traceback (most recent call last)",
      "Cell \u001b[1;32mIn[25], line 3\u001b[0m\n\u001b[0;32m      1\u001b[0m \u001b[38;5;66;03m## Function call/execute\u001b[39;00m\n\u001b[1;32m----> 3\u001b[0m \u001b[43mmy_function_name\u001b[49m\u001b[43m(\u001b[49m\u001b[38;5;241;43m10\u001b[39;49m\u001b[43m,\u001b[49m\u001b[38;5;241;43m20\u001b[39;49m\u001b[43m,\u001b[49m\u001b[38;5;241;43m23\u001b[39;49m\u001b[43m)\u001b[49m\n",
      "\u001b[1;31mTypeError\u001b[0m: my_function_name() takes 2 positional arguments but 3 were given"
     ]
    }
   ],
   "source": [
    "## Function call/execute\n",
    "\n",
    "my_function_name(10,20,)"
   ]
  },
  {
   "cell_type": "code",
   "execution_count": 29,
   "id": "d6d5ee61",
   "metadata": {},
   "outputs": [],
   "source": [
    "def klinkenberg_effect():\n",
    "    k = float(input('Enter the initial guess of absolute permeability(kl_0): '))\n",
    "\n",
    "    pm = float(input('Enter the Mean Pressure: '))\n",
    "\n",
    "    kg = float(input(\"Enter k(air) calculated in lab at pressure pm: \"))\n",
    "\n",
    "    while abs(6.9*(k**0.64)+pm*k-pm*kg)>0.00001:\n",
    "        k = k - (6.9*(k**0.64) + pm*k - pm*kg)/(4.416*(k**(-0.36)) + pm)\n",
    "\n",
    "    print(f\"The final value of Perm K is {k}\")\n",
    "    \n"
   ]
  },
  {
   "cell_type": "code",
   "execution_count": 30,
   "id": "bdf3807e",
   "metadata": {},
   "outputs": [
    {
     "name": "stdout",
     "output_type": "stream",
     "text": [
      "Enter the initial guess of absolute permeability(kl_0): 50\n",
      "Enter the Mean Pressure: 15\n",
      "Enter k(air) calculated in lab at pressure pm: 151\n",
      "The final value of Perm K is 140.1226483871352\n"
     ]
    }
   ],
   "source": [
    "klinkenberg_effect()"
   ]
  },
  {
   "cell_type": "markdown",
   "id": "15236ef9",
   "metadata": {},
   "source": [
    "a*x2+bx+c\n",
    "\\\n",
    "\n",
    "return func give the result as ans or as extra value or as integer or float\n"
   ]
  },
  {
   "cell_type": "code",
   "execution_count": 36,
   "id": "b4b87999",
   "metadata": {},
   "outputs": [],
   "source": [
    "def my_duadratic_fn(a,b,c,x):\n",
    "    fx=a*x**2+b*x+c\n",
    "    print(fx)\n",
    "    return fx"
   ]
  },
  {
   "cell_type": "code",
   "execution_count": 37,
   "id": "f95239c8",
   "metadata": {},
   "outputs": [
    {
     "name": "stdout",
     "output_type": "stream",
     "text": [
      "9\n"
     ]
    },
    {
     "data": {
      "text/plain": [
       "9"
      ]
     },
     "execution_count": 37,
     "metadata": {},
     "output_type": "execute_result"
    }
   ],
   "source": [
    "my_duadratic_fn(2,3,4,1)"
   ]
  },
  {
   "cell_type": "code",
   "execution_count": 38,
   "id": "b3975b7b",
   "metadata": {},
   "outputs": [
    {
     "name": "stdout",
     "output_type": "stream",
     "text": [
      "9\n"
     ]
    }
   ],
   "source": [
    "ans=my_duadratic_fn(2,3,4,1)"
   ]
  },
  {
   "cell_type": "code",
   "execution_count": 39,
   "id": "89e95786",
   "metadata": {},
   "outputs": [
    {
     "data": {
      "text/plain": [
       "9"
      ]
     },
     "execution_count": 39,
     "metadata": {},
     "output_type": "execute_result"
    }
   ],
   "source": [
    "ans"
   ]
  },
  {
   "cell_type": "code",
   "execution_count": 40,
   "id": "2ec5625b",
   "metadata": {},
   "outputs": [],
   "source": [
    "def klinkenberg_effect():\n",
    "    k = float(input('Enter the initial guess of absolute permeability(kl_0): '))\n",
    "\n",
    "    pm = float(input('Enter the Mean Pressure: '))\n",
    "\n",
    "    kg = float(input(\"Enter k(air) calculated in lab at pressure pm: \"))\n",
    "\n",
    "    while abs(6.9*(k**0.64)+pm*k-pm*kg)>0.00001:\n",
    "        k = k - (6.9*(k**0.64) + pm*k - pm*kg)/(4.416*(k**(-0.36)) + pm)\n",
    "\n",
    "    print(f\"The final value of Perm K is {k}\")\n",
    "    return k"
   ]
  },
  {
   "cell_type": "code",
   "execution_count": 41,
   "id": "11c94c7d",
   "metadata": {},
   "outputs": [
    {
     "name": "stdout",
     "output_type": "stream",
     "text": [
      "Enter the initial guess of absolute permeability(kl_0): 41\n",
      "Enter the Mean Pressure: 55\n",
      "Enter k(air) calculated in lab at pressure pm: 52\n",
      "The final value of Perm K is 50.45703418988804\n"
     ]
    }
   ],
   "source": [
    "perm_liquid = klinkenberg_effect()"
   ]
  },
  {
   "cell_type": "code",
   "execution_count": 42,
   "id": "34e7d8fe",
   "metadata": {},
   "outputs": [
    {
     "data": {
      "text/plain": [
       "50.45703418988804"
      ]
     },
     "execution_count": 42,
     "metadata": {},
     "output_type": "execute_result"
    }
   ],
   "source": [
    "perm_liquid"
   ]
  },
  {
   "cell_type": "code",
   "execution_count": 43,
   "id": "2ff18361",
   "metadata": {},
   "outputs": [],
   "source": [
    "## any thing written below return will not be executed"
   ]
  },
  {
   "cell_type": "code",
   "execution_count": 51,
   "id": "e10a4c87",
   "metadata": {},
   "outputs": [],
   "source": [
    "def my_duadratic_fn(a,b,c,x):\n",
    "    fx=a*x**2+b*x+c\n",
    "    print(fx)\n",
    "    return fx\n",
    "    print('kaka')"
   ]
  },
  {
   "cell_type": "code",
   "execution_count": 52,
   "id": "89695254",
   "metadata": {},
   "outputs": [
    {
     "name": "stdout",
     "output_type": "stream",
     "text": [
      "9\n"
     ]
    }
   ],
   "source": [
    "ans=my_duadratic_fn(2,3,4,1)"
   ]
  },
  {
   "cell_type": "code",
   "execution_count": 54,
   "id": "da3911a5",
   "metadata": {},
   "outputs": [],
   "source": [
    "def maths(a,b):\n",
    "    add = a+b\n",
    "    sub = a-b\n",
    "    mult = a*b\n",
    "    div = a/b\n",
    "    return add,sub,mult,div"
   ]
  },
  {
   "cell_type": "code",
   "execution_count": 56,
   "id": "0c33cba8",
   "metadata": {},
   "outputs": [
    {
     "data": {
      "text/plain": [
       "(12, 6, 27, 3.0)"
      ]
     },
     "execution_count": 56,
     "metadata": {},
     "output_type": "execute_result"
    }
   ],
   "source": [
    "maths(9,3)"
   ]
  },
  {
   "cell_type": "code",
   "execution_count": 57,
   "id": "d3a97d2b",
   "metadata": {},
   "outputs": [],
   "source": [
    "result=maths(9,3)"
   ]
  },
  {
   "cell_type": "code",
   "execution_count": 58,
   "id": "c79369c6",
   "metadata": {},
   "outputs": [
    {
     "data": {
      "text/plain": [
       "(12, 6, 27, 3.0)"
      ]
     },
     "execution_count": 58,
     "metadata": {},
     "output_type": "execute_result"
    }
   ],
   "source": [
    "result"
   ]
  },
  {
   "cell_type": "code",
   "execution_count": 59,
   "id": "c02afdec",
   "metadata": {},
   "outputs": [],
   "source": [
    "addition,subtraction,multiplication,division=maths(9,3)"
   ]
  },
  {
   "cell_type": "code",
   "execution_count": 60,
   "id": "0ef6e8e9",
   "metadata": {},
   "outputs": [
    {
     "data": {
      "text/plain": [
       "12"
      ]
     },
     "execution_count": 60,
     "metadata": {},
     "output_type": "execute_result"
    }
   ],
   "source": [
    "addition"
   ]
  },
  {
   "cell_type": "code",
   "execution_count": 62,
   "id": "b6901961",
   "metadata": {},
   "outputs": [
    {
     "data": {
      "text/plain": [
       "3.0"
      ]
     },
     "execution_count": 62,
     "metadata": {},
     "output_type": "execute_result"
    }
   ],
   "source": [
    "division"
   ]
  },
  {
   "cell_type": "code",
   "execution_count": 63,
   "id": "1dfe3164",
   "metadata": {},
   "outputs": [
    {
     "ename": "ValueError",
     "evalue": "not enough values to unpack (expected 5, got 4)",
     "output_type": "error",
     "traceback": [
      "\u001b[1;31m---------------------------------------------------------------------------\u001b[0m",
      "\u001b[1;31mValueError\u001b[0m                                Traceback (most recent call last)",
      "Cell \u001b[1;32mIn[63], line 1\u001b[0m\n\u001b[1;32m----> 1\u001b[0m addition,subtraction,multiplication,division,a\u001b[38;5;241m=\u001b[39mmaths(\u001b[38;5;241m9\u001b[39m,\u001b[38;5;241m3\u001b[39m)\n",
      "\u001b[1;31mValueError\u001b[0m: not enough values to unpack (expected 5, got 4)"
     ]
    }
   ],
   "source": [
    "addition,subtraction,multiplication,division,a=maths(9,3)"
   ]
  },
  {
   "cell_type": "code",
   "execution_count": 64,
   "id": "e1deef9c",
   "metadata": {},
   "outputs": [
    {
     "ename": "ValueError",
     "evalue": "too many values to unpack (expected 3)",
     "output_type": "error",
     "traceback": [
      "\u001b[1;31m---------------------------------------------------------------------------\u001b[0m",
      "\u001b[1;31mValueError\u001b[0m                                Traceback (most recent call last)",
      "Cell \u001b[1;32mIn[64], line 1\u001b[0m\n\u001b[1;32m----> 1\u001b[0m addition,subtraction,multiplication\u001b[38;5;241m=\u001b[39mmaths(\u001b[38;5;241m9\u001b[39m,\u001b[38;5;241m3\u001b[39m)\n",
      "\u001b[1;31mValueError\u001b[0m: too many values to unpack (expected 3)"
     ]
    }
   ],
   "source": [
    "addition,subtraction,multiplication=maths(9,3)"
   ]
  },
  {
   "cell_type": "markdown",
   "id": "2afc55b4",
   "metadata": {},
   "source": [
    "## Example of resevoir engr\n",
    "\n",
    "pwf= pi-(141.2q*mu*B/kh)ln(re/rw)\n"
   ]
  },
  {
   "cell_type": "code",
   "execution_count": 71,
   "id": "ef10c490",
   "metadata": {},
   "outputs": [],
   "source": [
    "import math"
   ]
  },
  {
   "cell_type": "code",
   "execution_count": 72,
   "id": "120acab7",
   "metadata": {},
   "outputs": [],
   "source": [
    "def darcy_flow_pwf(unit_conversion):\n",
    "    Pi = float(input('Pi = '))\n",
    "    q = float(input('Enter Flowrate in STB/D'))\n",
    "    mu = float(input('Enter Viscosity in cP'))\n",
    "    B = float(input('Enter FVF rb/STB'))\n",
    "    k = float(input('EnterPerm mD'))\n",
    "    h = float(input('Enter Res Thickness ft'))\n",
    "    re = 3000\n",
    "    rw = 0.5\n",
    "    Coeff = unit_conversion*q*mu*B/(k*h)\n",
    "    Pwf = Pi - Coeff*math.log(re/rw)\n",
    "    return Pwf"
   ]
  },
  {
   "cell_type": "code",
   "execution_count": 73,
   "id": "1eba9f78",
   "metadata": {},
   "outputs": [
    {
     "name": "stdout",
     "output_type": "stream",
     "text": [
      "Pi = 5000\n",
      "Enter Flowrate in STB/D1200\n",
      "Enter Viscosity in cP1\n",
      "Enter FVF rb/STB1.22\n",
      "EnterPerm mD109\n",
      "Enter Res Thickness ft60\n"
     ]
    },
    {
     "data": {
      "text/plain": [
       "4725.025099342077"
      ]
     },
     "execution_count": 73,
     "metadata": {},
     "output_type": "execute_result"
    }
   ],
   "source": [
    "darcy_flow_pwf(141.2)"
   ]
  },
  {
   "cell_type": "code",
   "execution_count": null,
   "id": "e6591a9f",
   "metadata": {},
   "outputs": [],
   "source": []
  }
 ],
 "metadata": {
  "kernelspec": {
   "display_name": "Python 3 (ipykernel)",
   "language": "python",
   "name": "python3"
  },
  "language_info": {
   "codemirror_mode": {
    "name": "ipython",
    "version": 3
   },
   "file_extension": ".py",
   "mimetype": "text/x-python",
   "name": "python",
   "nbconvert_exporter": "python",
   "pygments_lexer": "ipython3",
   "version": "3.10.9"
  }
 },
 "nbformat": 4,
 "nbformat_minor": 5
}
