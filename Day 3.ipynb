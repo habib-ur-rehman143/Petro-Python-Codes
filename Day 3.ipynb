{
 "cells": [
  {
   "cell_type": "markdown",
   "id": "ab9565e3",
   "metadata": {},
   "source": [
    "## Data structure: holding large data and processing\n",
    "### list\n",
    "it is used to store multiple items in a single variable\n",
    "--to craete a list: [], list()\n",
    "--mutable: can change lenght, element and elements values"
   ]
  },
  {
   "cell_type": "code",
   "execution_count": 5,
   "id": "78ef75f1",
   "metadata": {},
   "outputs": [],
   "source": [
    "a =[23,'habib','petropython','35.8',54,87, True]"
   ]
  },
  {
   "cell_type": "code",
   "execution_count": 6,
   "id": "7157053b",
   "metadata": {},
   "outputs": [
    {
     "data": {
      "text/plain": [
       "[23, 'habib', 'petropython', '35.8', 54, 87, True]"
      ]
     },
     "execution_count": 6,
     "metadata": {},
     "output_type": "execute_result"
    }
   ],
   "source": [
    "a"
   ]
  },
  {
   "cell_type": "code",
   "execution_count": 7,
   "id": "c192db17",
   "metadata": {},
   "outputs": [
    {
     "data": {
      "text/plain": [
       "list"
      ]
     },
     "execution_count": 7,
     "metadata": {},
     "output_type": "execute_result"
    }
   ],
   "source": [
    "type(a)"
   ]
  },
  {
   "cell_type": "code",
   "execution_count": 8,
   "id": "f0e65d7e",
   "metadata": {},
   "outputs": [],
   "source": [
    "b=[0.8,78,(4+8j), 'string']"
   ]
  },
  {
   "cell_type": "code",
   "execution_count": 9,
   "id": "89f1bcc3",
   "metadata": {},
   "outputs": [
    {
     "data": {
      "text/plain": [
       "[0.8, 78, (4+8j), 'string']"
      ]
     },
     "execution_count": 9,
     "metadata": {},
     "output_type": "execute_result"
    }
   ],
   "source": [
    "b"
   ]
  },
  {
   "cell_type": "markdown",
   "id": "e3abe3cc",
   "metadata": {},
   "source": [
    "## extracting data from list"
   ]
  },
  {
   "cell_type": "code",
   "execution_count": 10,
   "id": "5db73e52",
   "metadata": {},
   "outputs": [],
   "source": [
    "## indexes = address of an elements inside a list"
   ]
  },
  {
   "cell_type": "code",
   "execution_count": 12,
   "id": "869e64c1",
   "metadata": {},
   "outputs": [],
   "source": [
    "porosity=[0.2,0.4,0.65,0.22,0.21,0.112,0.32]"
   ]
  },
  {
   "cell_type": "code",
   "execution_count": 13,
   "id": "30dac600",
   "metadata": {},
   "outputs": [
    {
     "data": {
      "text/plain": [
       "[0.2, 0.4, 0.65, 0.22, 0.21, 0.112, 0.32]"
      ]
     },
     "execution_count": 13,
     "metadata": {},
     "output_type": "execute_result"
    }
   ],
   "source": [
    "porosity"
   ]
  },
  {
   "cell_type": "code",
   "execution_count": 14,
   "id": "6085563b",
   "metadata": {},
   "outputs": [
    {
     "data": {
      "text/plain": [
       "0.65"
      ]
     },
     "execution_count": 14,
     "metadata": {},
     "output_type": "execute_result"
    }
   ],
   "source": [
    "porosity[2]"
   ]
  },
  {
   "cell_type": "code",
   "execution_count": 15,
   "id": "ca9ef26a",
   "metadata": {},
   "outputs": [
    {
     "data": {
      "text/plain": [
       "0.112"
      ]
     },
     "execution_count": 15,
     "metadata": {},
     "output_type": "execute_result"
    }
   ],
   "source": [
    "porosity[5]"
   ]
  },
  {
   "cell_type": "code",
   "execution_count": 16,
   "id": "05213088",
   "metadata": {},
   "outputs": [
    {
     "ename": "IndexError",
     "evalue": "list index out of range",
     "output_type": "error",
     "traceback": [
      "\u001b[1;31m---------------------------------------------------------------------------\u001b[0m",
      "\u001b[1;31mIndexError\u001b[0m                                Traceback (most recent call last)",
      "Cell \u001b[1;32mIn[16], line 1\u001b[0m\n\u001b[1;32m----> 1\u001b[0m \u001b[43mporosity\u001b[49m\u001b[43m[\u001b[49m\u001b[38;5;241;43m8\u001b[39;49m\u001b[43m]\u001b[49m\n",
      "\u001b[1;31mIndexError\u001b[0m: list index out of range"
     ]
    }
   ],
   "source": [
    "porosity[8]"
   ]
  },
  {
   "cell_type": "code",
   "execution_count": 33,
   "id": "81aed8c1",
   "metadata": {},
   "outputs": [],
   "source": [
    "    a=[24,55,78,'habib',[54,.02,['petro',65,'oil'],.02],568,.05]"
   ]
  },
  {
   "cell_type": "code",
   "execution_count": 34,
   "id": "5f7cb4e4",
   "metadata": {},
   "outputs": [
    {
     "data": {
      "text/plain": [
       "[54, 0.02, ['petro', 65, 'oil'], 0.02]"
      ]
     },
     "execution_count": 34,
     "metadata": {},
     "output_type": "execute_result"
    }
   ],
   "source": [
    "a[4]"
   ]
  },
  {
   "cell_type": "code",
   "execution_count": 35,
   "id": "aa467c41",
   "metadata": {},
   "outputs": [
    {
     "data": {
      "text/plain": [
       "'oil'"
      ]
     },
     "execution_count": 35,
     "metadata": {},
     "output_type": "execute_result"
    }
   ],
   "source": [
    "a[4][2][2]"
   ]
  },
  {
   "cell_type": "code",
   "execution_count": 36,
   "id": "09fb680c",
   "metadata": {},
   "outputs": [],
   "source": [
    "# backward index= negative indexes"
   ]
  },
  {
   "cell_type": "code",
   "execution_count": 37,
   "id": "37a99301",
   "metadata": {},
   "outputs": [
    {
     "data": {
      "text/plain": [
       "[0.2, 0.4, 0.65, 0.22, 0.21, 0.112, 0.32]"
      ]
     },
     "execution_count": 37,
     "metadata": {},
     "output_type": "execute_result"
    }
   ],
   "source": [
    "porosity"
   ]
  },
  {
   "cell_type": "code",
   "execution_count": 38,
   "id": "ff234bd4",
   "metadata": {},
   "outputs": [
    {
     "data": {
      "text/plain": [
       "0.21"
      ]
     },
     "execution_count": 38,
     "metadata": {},
     "output_type": "execute_result"
    }
   ],
   "source": [
    "porosity[-3]"
   ]
  },
  {
   "cell_type": "code",
   "execution_count": 40,
   "id": "e4abdc3c",
   "metadata": {},
   "outputs": [
    {
     "data": {
      "text/plain": [
       "0.21"
      ]
     },
     "execution_count": 40,
     "metadata": {},
     "output_type": "execute_result"
    }
   ],
   "source": [
    "porosity[4]"
   ]
  },
  {
   "cell_type": "code",
   "execution_count": 41,
   "id": "b40ee1a5",
   "metadata": {},
   "outputs": [],
   "source": [
    "## mutable: ability to update"
   ]
  },
  {
   "cell_type": "code",
   "execution_count": 42,
   "id": "7a3ba0bc",
   "metadata": {},
   "outputs": [
    {
     "data": {
      "text/plain": [
       "[0.2, 0.4, 0.65, 0.22, 0.21, 0.112, 0.32]"
      ]
     },
     "execution_count": 42,
     "metadata": {},
     "output_type": "execute_result"
    }
   ],
   "source": [
    "porosity"
   ]
  },
  {
   "cell_type": "code",
   "execution_count": 43,
   "id": "9dd48f24",
   "metadata": {},
   "outputs": [
    {
     "data": {
      "text/plain": [
       "0.4"
      ]
     },
     "execution_count": 43,
     "metadata": {},
     "output_type": "execute_result"
    }
   ],
   "source": [
    "porosity[1]"
   ]
  },
  {
   "cell_type": "code",
   "execution_count": 44,
   "id": "08139777",
   "metadata": {},
   "outputs": [],
   "source": [
    "porosity[1]= 0.54"
   ]
  },
  {
   "cell_type": "code",
   "execution_count": 45,
   "id": "28a60176",
   "metadata": {},
   "outputs": [
    {
     "data": {
      "text/plain": [
       "[0.2, 0.54, 0.65, 0.22, 0.21, 0.112, 0.32]"
      ]
     },
     "execution_count": 45,
     "metadata": {},
     "output_type": "execute_result"
    }
   ],
   "source": [
    "porosity"
   ]
  },
  {
   "cell_type": "code",
   "execution_count": 46,
   "id": "280bd181",
   "metadata": {},
   "outputs": [],
   "source": [
    "# len function : calculating the lenght of data structure"
   ]
  },
  {
   "cell_type": "code",
   "execution_count": 47,
   "id": "54939aeb",
   "metadata": {},
   "outputs": [
    {
     "data": {
      "text/plain": [
       "7"
      ]
     },
     "execution_count": 47,
     "metadata": {},
     "output_type": "execute_result"
    }
   ],
   "source": [
    "len(porosity)"
   ]
  },
  {
   "cell_type": "code",
   "execution_count": 48,
   "id": "c137c199",
   "metadata": {},
   "outputs": [],
   "source": [
    "# similarities bt list and string: indexing"
   ]
  },
  {
   "cell_type": "code",
   "execution_count": 51,
   "id": "ae37147b",
   "metadata": {},
   "outputs": [],
   "source": [
    "a= 'porosity_and permeability'"
   ]
  },
  {
   "cell_type": "code",
   "execution_count": 54,
   "id": "6e447845",
   "metadata": {},
   "outputs": [
    {
     "data": {
      "text/plain": [
       "'p'"
      ]
     },
     "execution_count": 54,
     "metadata": {},
     "output_type": "execute_result"
    }
   ],
   "source": [
    "a[0]"
   ]
  },
  {
   "cell_type": "code",
   "execution_count": 55,
   "id": "d681c261",
   "metadata": {},
   "outputs": [
    {
     "data": {
      "text/plain": [
       "'y'"
      ]
     },
     "execution_count": 55,
     "metadata": {},
     "output_type": "execute_result"
    }
   ],
   "source": [
    "a[-1]"
   ]
  },
  {
   "cell_type": "code",
   "execution_count": 56,
   "id": "13541363",
   "metadata": {},
   "outputs": [
    {
     "ename": "TypeError",
     "evalue": "'str' object does not support item assignment",
     "output_type": "error",
     "traceback": [
      "\u001b[1;31m---------------------------------------------------------------------------\u001b[0m",
      "\u001b[1;31mTypeError\u001b[0m                                 Traceback (most recent call last)",
      "Cell \u001b[1;32mIn[56], line 1\u001b[0m\n\u001b[1;32m----> 1\u001b[0m a[\u001b[38;5;241m0\u001b[39m] \u001b[38;5;241m=\u001b[39m \u001b[38;5;124m'\u001b[39m\u001b[38;5;124mh\u001b[39m\u001b[38;5;124m'\u001b[39m\n",
      "\u001b[1;31mTypeError\u001b[0m: 'str' object does not support item assignment"
     ]
    }
   ],
   "source": [
    "a[0] = 'h'"
   ]
  },
  {
   "cell_type": "code",
   "execution_count": 57,
   "id": "ec648f92",
   "metadata": {},
   "outputs": [],
   "source": [
    "# string are in mutable in nature"
   ]
  },
  {
   "cell_type": "markdown",
   "id": "77121b83",
   "metadata": {},
   "source": [
    "## acessing more than one data: slicing\n",
    "#slicing: list[start:stop:step] #stopping index value in not included\n"
   ]
  },
  {
   "cell_type": "code",
   "execution_count": 58,
   "id": "426d6e5a",
   "metadata": {},
   "outputs": [
    {
     "data": {
      "text/plain": [
       "[0.2, 0.54, 0.65, 0.22, 0.21, 0.112, 0.32]"
      ]
     },
     "execution_count": 58,
     "metadata": {},
     "output_type": "execute_result"
    }
   ],
   "source": [
    "porosity"
   ]
  },
  {
   "cell_type": "code",
   "execution_count": 60,
   "id": "6266c814",
   "metadata": {},
   "outputs": [
    {
     "data": {
      "text/plain": [
       "[0.2, 0.54, 0.65]"
      ]
     },
     "execution_count": 60,
     "metadata": {},
     "output_type": "execute_result"
    }
   ],
   "source": [
    "porosity[0:3]"
   ]
  },
  {
   "cell_type": "code",
   "execution_count": 61,
   "id": "52aee32e",
   "metadata": {},
   "outputs": [
    {
     "data": {
      "text/plain": [
       "[0.22, 0.21, 0.112]"
      ]
     },
     "execution_count": 61,
     "metadata": {},
     "output_type": "execute_result"
    }
   ],
   "source": [
    "porosity[3:6]"
   ]
  },
  {
   "cell_type": "code",
   "execution_count": 62,
   "id": "789383b4",
   "metadata": {},
   "outputs": [
    {
     "data": {
      "text/plain": [
       "[0.54, 0.65, 0.22, 0.21, 0.112, 0.32]"
      ]
     },
     "execution_count": 62,
     "metadata": {},
     "output_type": "execute_result"
    }
   ],
   "source": [
    "porosity[1:]"
   ]
  },
  {
   "cell_type": "code",
   "execution_count": 63,
   "id": "1de34546",
   "metadata": {},
   "outputs": [
    {
     "data": {
      "text/plain": [
       "[0.2, 0.54, 0.65, 0.22, 0.21]"
      ]
     },
     "execution_count": 63,
     "metadata": {},
     "output_type": "execute_result"
    }
   ],
   "source": [
    "porosity[:5]"
   ]
  },
  {
   "cell_type": "code",
   "execution_count": 64,
   "id": "4882b23d",
   "metadata": {},
   "outputs": [
    {
     "data": {
      "text/plain": [
       "[0.54, 0.65, 0.22, 0.21, 0.112, 0.32]"
      ]
     },
     "execution_count": 64,
     "metadata": {},
     "output_type": "execute_result"
    }
   ],
   "source": [
    "porosity[1:100]"
   ]
  },
  {
   "cell_type": "code",
   "execution_count": 65,
   "id": "a8716ac0",
   "metadata": {},
   "outputs": [
    {
     "data": {
      "text/plain": [
       "[0.2, 0.54, 0.65, 0.22, 0.21, 0.112, 0.32]"
      ]
     },
     "execution_count": 65,
     "metadata": {},
     "output_type": "execute_result"
    }
   ],
   "source": [
    "porosity[:]"
   ]
  },
  {
   "cell_type": "code",
   "execution_count": 66,
   "id": "433e8435",
   "metadata": {},
   "outputs": [
    {
     "data": {
      "text/plain": [
       "[0.2, 0.65, 0.21, 0.32]"
      ]
     },
     "execution_count": 66,
     "metadata": {},
     "output_type": "execute_result"
    }
   ],
   "source": [
    "porosity[::2]"
   ]
  },
  {
   "cell_type": "code",
   "execution_count": 67,
   "id": "16bd3ec4",
   "metadata": {},
   "outputs": [
    {
     "data": {
      "text/plain": [
       "[0.2, 0.22, 0.32]"
      ]
     },
     "execution_count": 67,
     "metadata": {},
     "output_type": "execute_result"
    }
   ],
   "source": [
    "porosity[::3]"
   ]
  },
  {
   "cell_type": "code",
   "execution_count": 68,
   "id": "2a71e787",
   "metadata": {},
   "outputs": [
    {
     "data": {
      "text/plain": [
       "[0.54, 0.22, 0.112]"
      ]
     },
     "execution_count": 68,
     "metadata": {},
     "output_type": "execute_result"
    }
   ],
   "source": [
    "porosity[1:-1:2]"
   ]
  },
  {
   "cell_type": "code",
   "execution_count": 69,
   "id": "ef96a2a5",
   "metadata": {},
   "outputs": [
    {
     "data": {
      "text/plain": [
       "[]"
      ]
     },
     "execution_count": 69,
     "metadata": {},
     "output_type": "execute_result"
    }
   ],
   "source": [
    "porosity[5:0]"
   ]
  },
  {
   "cell_type": "code",
   "execution_count": 70,
   "id": "0c9b4950",
   "metadata": {},
   "outputs": [
    {
     "data": {
      "text/plain": [
       "[0.112, 0.21, 0.22, 0.65, 0.54]"
      ]
     },
     "execution_count": 70,
     "metadata": {},
     "output_type": "execute_result"
    }
   ],
   "source": [
    "porosity[5:0:-1]"
   ]
  },
  {
   "cell_type": "code",
   "execution_count": 71,
   "id": "1bcf2397",
   "metadata": {},
   "outputs": [
    {
     "data": {
      "text/plain": [
       "[0.21, 0.22, 0.65, 0.54, 0.2]"
      ]
     },
     "execution_count": 71,
     "metadata": {},
     "output_type": "execute_result"
    }
   ],
   "source": [
    "porosity[4::-1]"
   ]
  },
  {
   "cell_type": "code",
   "execution_count": 72,
   "id": "d0217ea0",
   "metadata": {},
   "outputs": [
    {
     "data": {
      "text/plain": [
       "[0.112, 0.32]"
      ]
     },
     "execution_count": 72,
     "metadata": {},
     "output_type": "execute_result"
    }
   ],
   "source": [
    "porosity[-2:100]"
   ]
  },
  {
   "cell_type": "code",
   "execution_count": 74,
   "id": "47f515a7",
   "metadata": {},
   "outputs": [
    {
     "data": {
      "text/plain": [
       "[0.32, 0.112, 0.21, 0.22, 0.65, 0.54, 0.2]"
      ]
     },
     "execution_count": 74,
     "metadata": {},
     "output_type": "execute_result"
    }
   ],
   "source": [
    "porosity[-1::-1]"
   ]
  },
  {
   "cell_type": "code",
   "execution_count": 75,
   "id": "42144501",
   "metadata": {},
   "outputs": [
    {
     "data": {
      "text/plain": [
       "'porosity_and permeability'"
      ]
     },
     "execution_count": 75,
     "metadata": {},
     "output_type": "execute_result"
    }
   ],
   "source": [
    "a"
   ]
  },
  {
   "cell_type": "code",
   "execution_count": 77,
   "id": "383e1b63",
   "metadata": {},
   "outputs": [],
   "source": [
    "li=[24,55,78,'habib',[54,.02,['petro',65,'oil'],.02],568,.05]"
   ]
  },
  {
   "cell_type": "code",
   "execution_count": 78,
   "id": "a72fb635",
   "metadata": {},
   "outputs": [],
   "source": [
    "li=[34,345,'saturation',(4+5j),True,[87,84,'habib']]"
   ]
  },
  {
   "cell_type": "code",
   "execution_count": 79,
   "id": "86823f52",
   "metadata": {},
   "outputs": [
    {
     "data": {
      "text/plain": [
       "[87, 84, 'habib']"
      ]
     },
     "execution_count": 79,
     "metadata": {},
     "output_type": "execute_result"
    }
   ],
   "source": [
    "li[5\n",
    "  ]"
   ]
  },
  {
   "cell_type": "code",
   "execution_count": 80,
   "id": "f7c969b6",
   "metadata": {},
   "outputs": [
    {
     "data": {
      "text/plain": [
       "[87, 'habib']"
      ]
     },
     "execution_count": 80,
     "metadata": {},
     "output_type": "execute_result"
    }
   ],
   "source": [
    "li[5][::2]"
   ]
  },
  {
   "cell_type": "code",
   "execution_count": 81,
   "id": "d9b8d2cf",
   "metadata": {},
   "outputs": [],
   "source": [
    "## Mutable : Empty lists are widely used for populating it with certain calculatio"
   ]
  },
  {
   "cell_type": "code",
   "execution_count": 84,
   "id": "94914f5e",
   "metadata": {},
   "outputs": [],
   "source": [
    "crude_density =[]"
   ]
  },
  {
   "cell_type": "code",
   "execution_count": 86,
   "id": "06c4cc2a",
   "metadata": {},
   "outputs": [],
   "source": [
    "crude_density.append(62.4)"
   ]
  },
  {
   "cell_type": "code",
   "execution_count": 87,
   "id": "58070837",
   "metadata": {},
   "outputs": [
    {
     "data": {
      "text/plain": [
       "[62.4]"
      ]
     },
     "execution_count": 87,
     "metadata": {},
     "output_type": "execute_result"
    }
   ],
   "source": [
    "crude_density"
   ]
  },
  {
   "cell_type": "code",
   "execution_count": 88,
   "id": "232b6726",
   "metadata": {},
   "outputs": [],
   "source": [
    "crude_density.append(97)"
   ]
  },
  {
   "cell_type": "code",
   "execution_count": 89,
   "id": "cb403548",
   "metadata": {},
   "outputs": [
    {
     "data": {
      "text/plain": [
       "[62.4, 97]"
      ]
     },
     "execution_count": 89,
     "metadata": {},
     "output_type": "execute_result"
    }
   ],
   "source": [
    "crude_density"
   ]
  },
  {
   "cell_type": "code",
   "execution_count": 90,
   "id": "a8368c9c",
   "metadata": {},
   "outputs": [],
   "source": [
    "# Insert function"
   ]
  },
  {
   "cell_type": "code",
   "execution_count": 91,
   "id": "b69e36ad",
   "metadata": {},
   "outputs": [],
   "source": [
    "a=[1,2,3,4,5,6,7]"
   ]
  },
  {
   "cell_type": "code",
   "execution_count": 92,
   "id": "2fcf122d",
   "metadata": {},
   "outputs": [],
   "source": [
    "a.insert(2,'petroleum')"
   ]
  },
  {
   "cell_type": "code",
   "execution_count": 93,
   "id": "b100d68d",
   "metadata": {},
   "outputs": [
    {
     "data": {
      "text/plain": [
       "[1, 2, 'petroleum', 3, 4, 5, 6, 7]"
      ]
     },
     "execution_count": 93,
     "metadata": {},
     "output_type": "execute_result"
    }
   ],
   "source": [
    "a"
   ]
  },
  {
   "cell_type": "code",
   "execution_count": 94,
   "id": "abea339a",
   "metadata": {},
   "outputs": [],
   "source": [
    "## List operations"
   ]
  },
  {
   "cell_type": "code",
   "execution_count": 95,
   "id": "3a0f96a2",
   "metadata": {},
   "outputs": [],
   "source": [
    "a=[1,2,3]\n",
    "b=[4,5,6]"
   ]
  },
  {
   "cell_type": "code",
   "execution_count": 96,
   "id": "052fca75",
   "metadata": {},
   "outputs": [],
   "source": [
    "c=a+b"
   ]
  },
  {
   "cell_type": "code",
   "execution_count": 97,
   "id": "26be2f32",
   "metadata": {},
   "outputs": [
    {
     "data": {
      "text/plain": [
       "[1, 2, 3, 4, 5, 6]"
      ]
     },
     "execution_count": 97,
     "metadata": {},
     "output_type": "execute_result"
    }
   ],
   "source": [
    "c"
   ]
  },
  {
   "cell_type": "code",
   "execution_count": 100,
   "id": "9dc08bd4",
   "metadata": {},
   "outputs": [],
   "source": [
    "d='poro'\n",
    "e='perm'"
   ]
  },
  {
   "cell_type": "code",
   "execution_count": 101,
   "id": "8d972243",
   "metadata": {},
   "outputs": [
    {
     "data": {
      "text/plain": [
       "'poroperm'"
      ]
     },
     "execution_count": 101,
     "metadata": {},
     "output_type": "execute_result"
    }
   ],
   "source": [
    "d+e"
   ]
  },
  {
   "cell_type": "code",
   "execution_count": 102,
   "id": "698e44cf",
   "metadata": {},
   "outputs": [
    {
     "data": {
      "text/plain": [
       "[1, 2, 3, 1, 2, 3, 1, 2, 3]"
      ]
     },
     "execution_count": 102,
     "metadata": {},
     "output_type": "execute_result"
    }
   ],
   "source": [
    "a*3"
   ]
  },
  {
   "cell_type": "code",
   "execution_count": 103,
   "id": "06d738c2",
   "metadata": {},
   "outputs": [
    {
     "ename": "TypeError",
     "evalue": "unsupported operand type(s) for /: 'list' and 'int'",
     "output_type": "error",
     "traceback": [
      "\u001b[1;31m---------------------------------------------------------------------------\u001b[0m",
      "\u001b[1;31mTypeError\u001b[0m                                 Traceback (most recent call last)",
      "Cell \u001b[1;32mIn[103], line 1\u001b[0m\n\u001b[1;32m----> 1\u001b[0m \u001b[43ma\u001b[49m\u001b[38;5;241;43m/\u001b[39;49m\u001b[38;5;241;43m3\u001b[39;49m\n",
      "\u001b[1;31mTypeError\u001b[0m: unsupported operand type(s) for /: 'list' and 'int'"
     ]
    }
   ],
   "source": [
    "a/3"
   ]
  },
  {
   "cell_type": "markdown",
   "id": "ca16f10b",
   "metadata": {},
   "source": [
    "# Range : generating data"
   ]
  },
  {
   "cell_type": "code",
   "execution_count": 105,
   "id": "81871235",
   "metadata": {},
   "outputs": [
    {
     "data": {
      "text/plain": [
       "range(0, 10)"
      ]
     },
     "execution_count": 105,
     "metadata": {},
     "output_type": "execute_result"
    }
   ],
   "source": [
    "range(10) # generate data from 0 to 10 , 10 will be ecexcluded"
   ]
  },
  {
   "cell_type": "code",
   "execution_count": 106,
   "id": "5538c681",
   "metadata": {},
   "outputs": [
    {
     "data": {
      "text/plain": [
       "[0, 1, 2, 3, 4, 5, 6, 7, 8, 9]"
      ]
     },
     "execution_count": 106,
     "metadata": {},
     "output_type": "execute_result"
    }
   ],
   "source": [
    "list(range(10))"
   ]
  },
  {
   "cell_type": "code",
   "execution_count": 108,
   "id": "195294e0",
   "metadata": {},
   "outputs": [
    {
     "data": {
      "text/plain": [
       "[1, 3, 5, 7, 9]"
      ]
     },
     "execution_count": 108,
     "metadata": {},
     "output_type": "execute_result"
    }
   ],
   "source": [
    "list(range(1,10,2))"
   ]
  },
  {
   "cell_type": "code",
   "execution_count": 109,
   "id": "85e0fa0b",
   "metadata": {},
   "outputs": [
    {
     "data": {
      "text/plain": [
       "[20, 18, 16, 14, 12, 10, 8, 6, 4, 2]"
      ]
     },
     "execution_count": 109,
     "metadata": {},
     "output_type": "execute_result"
    }
   ],
   "source": [
    "list(range(20,0,-2))"
   ]
  },
  {
   "cell_type": "code",
   "execution_count": 110,
   "id": "14bd6c4c",
   "metadata": {},
   "outputs": [],
   "source": [
    "# taking inputs for lower bound, uppper boundand step size\n",
    "## output =desirable list"
   ]
  },
  {
   "cell_type": "code",
   "execution_count": 4,
   "id": "583d7fb2",
   "metadata": {},
   "outputs": [
    {
     "name": "stdout",
     "output_type": "stream",
     "text": [
      "lower bound:510\n",
      "upper bound:20\n",
      "step size: -10\n"
     ]
    },
    {
     "data": {
      "text/plain": [
       "[510,\n",
       " 500,\n",
       " 490,\n",
       " 480,\n",
       " 470,\n",
       " 460,\n",
       " 450,\n",
       " 440,\n",
       " 430,\n",
       " 420,\n",
       " 410,\n",
       " 400,\n",
       " 390,\n",
       " 380,\n",
       " 370,\n",
       " 360,\n",
       " 350,\n",
       " 340,\n",
       " 330,\n",
       " 320,\n",
       " 310,\n",
       " 300,\n",
       " 290,\n",
       " 280,\n",
       " 270,\n",
       " 260,\n",
       " 250,\n",
       " 240,\n",
       " 230,\n",
       " 220,\n",
       " 210,\n",
       " 200,\n",
       " 190,\n",
       " 180,\n",
       " 170,\n",
       " 160,\n",
       " 150,\n",
       " 140,\n",
       " 130,\n",
       " 120,\n",
       " 110,\n",
       " 100,\n",
       " 90,\n",
       " 80,\n",
       " 70,\n",
       " 60,\n",
       " 50,\n",
       " 40,\n",
       " 30]"
      ]
     },
     "execution_count": 4,
     "metadata": {},
     "output_type": "execute_result"
    }
   ],
   "source": [
    "l=int(input('lower bound:'))\n",
    "u=int(input('upper bound:'))\n",
    "s=int(input('step size: '))\n",
    "\n",
    "list(range(l,u,s))"
   ]
  },
  {
   "cell_type": "code",
   "execution_count": 5,
   "id": "90071304",
   "metadata": {},
   "outputs": [
    {
     "name": "stdout",
     "output_type": "stream",
     "text": [
      "lower bound: 401\n",
      "upper bound: 41\n",
      "step size: -3\n"
     ]
    },
    {
     "data": {
      "text/plain": [
       "[401,\n",
       " 398,\n",
       " 395,\n",
       " 392,\n",
       " 389,\n",
       " 386,\n",
       " 383,\n",
       " 380,\n",
       " 377,\n",
       " 374,\n",
       " 371,\n",
       " 368,\n",
       " 365,\n",
       " 362,\n",
       " 359,\n",
       " 356,\n",
       " 353,\n",
       " 350,\n",
       " 347,\n",
       " 344,\n",
       " 341,\n",
       " 338,\n",
       " 335,\n",
       " 332,\n",
       " 329,\n",
       " 326,\n",
       " 323,\n",
       " 320,\n",
       " 317,\n",
       " 314,\n",
       " 311,\n",
       " 308,\n",
       " 305,\n",
       " 302,\n",
       " 299,\n",
       " 296,\n",
       " 293,\n",
       " 290,\n",
       " 287,\n",
       " 284,\n",
       " 281,\n",
       " 278,\n",
       " 275,\n",
       " 272,\n",
       " 269,\n",
       " 266,\n",
       " 263,\n",
       " 260,\n",
       " 257,\n",
       " 254,\n",
       " 251,\n",
       " 248,\n",
       " 245,\n",
       " 242,\n",
       " 239,\n",
       " 236,\n",
       " 233,\n",
       " 230,\n",
       " 227,\n",
       " 224,\n",
       " 221,\n",
       " 218,\n",
       " 215,\n",
       " 212,\n",
       " 209,\n",
       " 206,\n",
       " 203,\n",
       " 200,\n",
       " 197,\n",
       " 194,\n",
       " 191,\n",
       " 188,\n",
       " 185,\n",
       " 182,\n",
       " 179,\n",
       " 176,\n",
       " 173,\n",
       " 170,\n",
       " 167,\n",
       " 164,\n",
       " 161,\n",
       " 158,\n",
       " 155,\n",
       " 152,\n",
       " 149,\n",
       " 146,\n",
       " 143,\n",
       " 140,\n",
       " 137,\n",
       " 134,\n",
       " 131,\n",
       " 128,\n",
       " 125,\n",
       " 122,\n",
       " 119,\n",
       " 116,\n",
       " 113,\n",
       " 110,\n",
       " 107,\n",
       " 104,\n",
       " 101,\n",
       " 98,\n",
       " 95,\n",
       " 92,\n",
       " 89,\n",
       " 86,\n",
       " 83,\n",
       " 80,\n",
       " 77,\n",
       " 74,\n",
       " 71,\n",
       " 68,\n",
       " 65,\n",
       " 62,\n",
       " 59,\n",
       " 56,\n",
       " 53,\n",
       " 50,\n",
       " 47,\n",
       " 44]"
      ]
     },
     "execution_count": 5,
     "metadata": {},
     "output_type": "execute_result"
    }
   ],
   "source": [
    "a=int(input(\"lower bound: \"))\n",
    "b=int(input('upper bound: '))\n",
    "c=int(input('step size: '))\n",
    "\n",
    "list(range(a,b,c))"
   ]
  },
  {
   "cell_type": "code",
   "execution_count": null,
   "id": "d1d53fb8",
   "metadata": {},
   "outputs": [],
   "source": []
  }
 ],
 "metadata": {
  "kernelspec": {
   "display_name": "Python 3 (ipykernel)",
   "language": "python",
   "name": "python3"
  },
  "language_info": {
   "codemirror_mode": {
    "name": "ipython",
    "version": 3
   },
   "file_extension": ".py",
   "mimetype": "text/x-python",
   "name": "python",
   "nbconvert_exporter": "python",
   "pygments_lexer": "ipython3",
   "version": "3.10.9"
  }
 },
 "nbformat": 4,
 "nbformat_minor": 5
}
