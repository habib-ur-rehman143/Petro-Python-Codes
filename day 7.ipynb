{
 "cells": [
  {
   "cell_type": "markdown",
   "id": "914a852a",
   "metadata": {},
   "source": [
    "##Numpy\n",
    "\n",
    "\n",
    "Numerical Python\n",
    "\n",
    "Mathematical Package from matlab\n",
    "\n",
    "arrays: Data Structure of Numpy\n",
    "\n",
    "50 times faster than list\n",
    "\n",
    "more space efficient\n",
    "\n",
    "arrays are very important in data science, AI"
   ]
  },
  {
   "cell_type": "code",
   "execution_count": 1,
   "id": "1ff9c0e9",
   "metadata": {},
   "outputs": [],
   "source": [
    "## importing numpy\n",
    "\n",
    "import numpy as np "
   ]
  },
  {
   "cell_type": "markdown",
   "id": "e9639b65",
   "metadata": {},
   "source": [
    "###### np arrays: object for storing data"
   ]
  },
  {
   "cell_type": "code",
   "execution_count": 2,
   "id": "f9057d42",
   "metadata": {},
   "outputs": [],
   "source": [
    "porosity = [0.2,0.4,0.6]"
   ]
  },
  {
   "cell_type": "code",
   "execution_count": 3,
   "id": "e9e2cc6d",
   "metadata": {},
   "outputs": [
    {
     "data": {
      "text/plain": [
       "list"
      ]
     },
     "execution_count": 3,
     "metadata": {},
     "output_type": "execute_result"
    }
   ],
   "source": [
    "type(porosity)"
   ]
  },
  {
   "cell_type": "code",
   "execution_count": 4,
   "id": "fdc6238b",
   "metadata": {},
   "outputs": [],
   "source": [
    "ar_porosity = np.array(porosity)"
   ]
  },
  {
   "cell_type": "code",
   "execution_count": 5,
   "id": "03057c31",
   "metadata": {},
   "outputs": [
    {
     "data": {
      "text/plain": [
       "array([0.2, 0.4, 0.6])"
      ]
     },
     "execution_count": 5,
     "metadata": {},
     "output_type": "execute_result"
    }
   ],
   "source": [
    "ar_porosity"
   ]
  },
  {
   "cell_type": "code",
   "execution_count": 6,
   "id": "fab692c9",
   "metadata": {},
   "outputs": [
    {
     "data": {
      "text/plain": [
       "numpy.ndarray"
      ]
     },
     "execution_count": 6,
     "metadata": {},
     "output_type": "execute_result"
    }
   ],
   "source": [
    "type(ar_porosity)"
   ]
  },
  {
   "cell_type": "code",
   "execution_count": 7,
   "id": "7754600a",
   "metadata": {},
   "outputs": [
    {
     "data": {
      "text/plain": [
       "array([0.2, 0.4, 0.5, 0.8])"
      ]
     },
     "execution_count": 7,
     "metadata": {},
     "output_type": "execute_result"
    }
   ],
   "source": [
    "np.array([0.2,0.4,0.5,0.8])"
   ]
  },
  {
   "cell_type": "code",
   "execution_count": 8,
   "id": "87298a9c",
   "metadata": {},
   "outputs": [
    {
     "data": {
      "text/plain": [
       "array([0.2, 0.4, 0.5, 0.8])"
      ]
     },
     "execution_count": 8,
     "metadata": {},
     "output_type": "execute_result"
    }
   ],
   "source": [
    "np.array((0.2,0.4,0.5,0.8))"
   ]
  },
  {
   "cell_type": "code",
   "execution_count": 12,
   "id": "2b06d048",
   "metadata": {},
   "outputs": [
    {
     "data": {
      "text/plain": [
       "array([0.2, 0.3, 0.4, 0.5, 0.6, 0.8, 0.9])"
      ]
     },
     "execution_count": 12,
     "metadata": {},
     "output_type": "execute_result"
    }
   ],
   "source": [
    "np.array((0.2,0.3,0.4,0.5,0.6,0.8,0.9))"
   ]
  },
  {
   "cell_type": "markdown",
   "id": "401a0aed",
   "metadata": {},
   "source": [
    "## Dimensions"
   ]
  },
  {
   "cell_type": "markdown",
   "id": "ff7554dc",
   "metadata": {},
   "source": [
    "##### 0D arrays: array having only one element"
   ]
  },
  {
   "cell_type": "code",
   "execution_count": 13,
   "id": "d1562e66",
   "metadata": {},
   "outputs": [],
   "source": [
    "arr = np.array(45)"
   ]
  },
  {
   "cell_type": "code",
   "execution_count": 14,
   "id": "3c16b7a1",
   "metadata": {},
   "outputs": [
    {
     "data": {
      "text/plain": [
       "array(45)"
      ]
     },
     "execution_count": 14,
     "metadata": {},
     "output_type": "execute_result"
    }
   ],
   "source": [
    "arr"
   ]
  },
  {
   "cell_type": "code",
   "execution_count": 15,
   "id": "e59d79eb",
   "metadata": {},
   "outputs": [
    {
     "data": {
      "text/plain": [
       "0"
      ]
     },
     "execution_count": 15,
     "metadata": {},
     "output_type": "execute_result"
    }
   ],
   "source": [
    "arr.ndim"
   ]
  },
  {
   "cell_type": "code",
   "execution_count": 16,
   "id": "720db630",
   "metadata": {},
   "outputs": [],
   "source": [
    "arr_1d = np.array([45,56,34,7534])"
   ]
  },
  {
   "cell_type": "code",
   "execution_count": 17,
   "id": "10aac143",
   "metadata": {},
   "outputs": [
    {
     "data": {
      "text/plain": [
       "array([  45,   56,   34, 7534])"
      ]
     },
     "execution_count": 17,
     "metadata": {},
     "output_type": "execute_result"
    }
   ],
   "source": [
    "arr_1d"
   ]
  },
  {
   "cell_type": "code",
   "execution_count": 18,
   "id": "1cf4efda",
   "metadata": {},
   "outputs": [
    {
     "data": {
      "text/plain": [
       "1"
      ]
     },
     "execution_count": 18,
     "metadata": {},
     "output_type": "execute_result"
    }
   ],
   "source": [
    "arr_1d.ndim"
   ]
  },
  {
   "cell_type": "code",
   "execution_count": 21,
   "id": "54927308",
   "metadata": {},
   "outputs": [],
   "source": [
    "arr=np.array([45])"
   ]
  },
  {
   "cell_type": "code",
   "execution_count": 22,
   "id": "f21be5fd",
   "metadata": {},
   "outputs": [
    {
     "data": {
      "text/plain": [
       "1"
      ]
     },
     "execution_count": 22,
     "metadata": {},
     "output_type": "execute_result"
    }
   ],
   "source": [
    "arr.ndim"
   ]
  },
  {
   "cell_type": "code",
   "execution_count": 23,
   "id": "5ce0f439",
   "metadata": {},
   "outputs": [],
   "source": [
    "# 2D array"
   ]
  },
  {
   "cell_type": "code",
   "execution_count": 25,
   "id": "a9557b48",
   "metadata": {},
   "outputs": [],
   "source": [
    "arr_2d = np.array([[1,2,3],[4,5,6],[7,8,9],[4,7,3]])"
   ]
  },
  {
   "cell_type": "code",
   "execution_count": 27,
   "id": "d496cd76",
   "metadata": {},
   "outputs": [
    {
     "data": {
      "text/plain": [
       "array([[1, 2, 3],\n",
       "       [4, 5, 6],\n",
       "       [7, 8, 9],\n",
       "       [4, 7, 3]])"
      ]
     },
     "execution_count": 27,
     "metadata": {},
     "output_type": "execute_result"
    }
   ],
   "source": [
    "arr_2d"
   ]
  },
  {
   "cell_type": "code",
   "execution_count": 28,
   "id": "189b3541",
   "metadata": {},
   "outputs": [
    {
     "data": {
      "text/plain": [
       "2"
      ]
     },
     "execution_count": 28,
     "metadata": {},
     "output_type": "execute_result"
    }
   ],
   "source": [
    "arr_2d.ndim"
   ]
  },
  {
   "cell_type": "code",
   "execution_count": 29,
   "id": "41597dfd",
   "metadata": {},
   "outputs": [],
   "source": [
    "## 3 d array: 2d arrays as key elements"
   ]
  },
  {
   "cell_type": "code",
   "execution_count": 31,
   "id": "a3dd9661",
   "metadata": {},
   "outputs": [],
   "source": [
    "arr_3d = np.array([[[1,2,3],[5,56,67]],[[45,34,23],[45,78,45]]])"
   ]
  },
  {
   "cell_type": "code",
   "execution_count": 32,
   "id": "f0e7ed93",
   "metadata": {},
   "outputs": [
    {
     "data": {
      "text/plain": [
       "array([[[ 1,  2,  3],\n",
       "        [ 5, 56, 67]],\n",
       "\n",
       "       [[45, 34, 23],\n",
       "        [45, 78, 45]]])"
      ]
     },
     "execution_count": 32,
     "metadata": {},
     "output_type": "execute_result"
    }
   ],
   "source": [
    "arr_3d"
   ]
  },
  {
   "cell_type": "code",
   "execution_count": 33,
   "id": "2197d2de",
   "metadata": {},
   "outputs": [],
   "source": [
    "arr_3d = np.array([[[1,2,3],[3,4,5]],[[45,56,43],[36,78,45]],[[67,34,23],[76,34,23]]])"
   ]
  },
  {
   "cell_type": "code",
   "execution_count": 34,
   "id": "24aa492c",
   "metadata": {},
   "outputs": [
    {
     "data": {
      "text/plain": [
       "array([[[ 1,  2,  3],\n",
       "        [ 3,  4,  5]],\n",
       "\n",
       "       [[45, 56, 43],\n",
       "        [36, 78, 45]],\n",
       "\n",
       "       [[67, 34, 23],\n",
       "        [76, 34, 23]]])"
      ]
     },
     "execution_count": 34,
     "metadata": {},
     "output_type": "execute_result"
    }
   ],
   "source": [
    "arr_3d"
   ]
  },
  {
   "cell_type": "code",
   "execution_count": 35,
   "id": "b1669467",
   "metadata": {},
   "outputs": [],
   "source": [
    "# arr 4d = 3 d arrays as key elements"
   ]
  },
  {
   "cell_type": "code",
   "execution_count": 36,
   "id": "ca8a346d",
   "metadata": {},
   "outputs": [],
   "source": [
    "arr_4d = np.array([[[[1,2,3,4],[3,4,5,6],[6,7,8,9]],[[34,56,78,45],[98,54,32,12],[56,67,23,67]]],\n",
    "                  [[[11,22,343,42],[33,44,55,665],[656,73,8,9]],[[34,5326,78,4325],[98,5324,3232,12],[56,67,23,67]]]])"
   ]
  },
  {
   "cell_type": "code",
   "execution_count": 38,
   "id": "29f847b9",
   "metadata": {},
   "outputs": [
    {
     "data": {
      "text/plain": [
       "array([[[[   1,    2,    3,    4],\n",
       "         [   3,    4,    5,    6],\n",
       "         [   6,    7,    8,    9]],\n",
       "\n",
       "        [[  34,   56,   78,   45],\n",
       "         [  98,   54,   32,   12],\n",
       "         [  56,   67,   23,   67]]],\n",
       "\n",
       "\n",
       "       [[[  11,   22,  343,   42],\n",
       "         [  33,   44,   55,  665],\n",
       "         [ 656,   73,    8,    9]],\n",
       "\n",
       "        [[  34, 5326,   78, 4325],\n",
       "         [  98, 5324, 3232,   12],\n",
       "         [  56,   67,   23,   67]]]])"
      ]
     },
     "execution_count": 38,
     "metadata": {},
     "output_type": "execute_result"
    }
   ],
   "source": [
    "arr_4d"
   ]
  },
  {
   "cell_type": "code",
   "execution_count": 39,
   "id": "b5fd6613",
   "metadata": {},
   "outputs": [
    {
     "data": {
      "text/plain": [
       "4"
      ]
     },
     "execution_count": 39,
     "metadata": {},
     "output_type": "execute_result"
    }
   ],
   "source": [
    "arr_4d.ndim"
   ]
  },
  {
   "cell_type": "markdown",
   "id": "d91b2821",
   "metadata": {},
   "source": [
    "### arnge: range in oython : generaye synthetic data arrays using numpy "
   ]
  },
  {
   "cell_type": "code",
   "execution_count": 41,
   "id": "b6628c60",
   "metadata": {},
   "outputs": [
    {
     "data": {
      "text/plain": [
       "[0, 2, 4, 6, 8]"
      ]
     },
     "execution_count": 41,
     "metadata": {},
     "output_type": "execute_result"
    }
   ],
   "source": [
    "list(range(0,10,2))"
   ]
  },
  {
   "cell_type": "code",
   "execution_count": 42,
   "id": "b9f1bb7a",
   "metadata": {},
   "outputs": [
    {
     "data": {
      "text/plain": [
       "array([0, 2, 4, 6, 8])"
      ]
     },
     "execution_count": 42,
     "metadata": {},
     "output_type": "execute_result"
    }
   ],
   "source": [
    "np.arange(0,10,2)"
   ]
  },
  {
   "cell_type": "markdown",
   "id": "08c60654",
   "metadata": {},
   "source": [
    "# makes an array of pressures starting from 0 to 5000 psi with a step size of 500 psi:\n",
    "np.arane(0,5000,500)\n",
    "\n",
    "np.arange(0,5001,500)\n",
    "\n",
    "np.arange(0,5500,500)"
   ]
  },
  {
   "cell_type": "code",
   "execution_count": 47,
   "id": "75842a59",
   "metadata": {},
   "outputs": [
    {
     "data": {
      "text/plain": [
       "array([   0,  500, 1000, 1500, 2000, 2500, 3000, 3500, 4000, 4500])"
      ]
     },
     "execution_count": 47,
     "metadata": {},
     "output_type": "execute_result"
    }
   ],
   "source": [
    "np.arange(0,5000,500)"
   ]
  },
  {
   "cell_type": "code",
   "execution_count": 48,
   "id": "38764efd",
   "metadata": {},
   "outputs": [
    {
     "data": {
      "text/plain": [
       "array([   0,  500, 1000, 1500, 2000, 2500, 3000, 3500, 4000, 4500, 5000])"
      ]
     },
     "execution_count": 48,
     "metadata": {},
     "output_type": "execute_result"
    }
   ],
   "source": [
    "np.arange(0,5001,500)"
   ]
  },
  {
   "cell_type": "code",
   "execution_count": 49,
   "id": "be46ea92",
   "metadata": {},
   "outputs": [
    {
     "data": {
      "text/plain": [
       "array([   0,  500, 1000, 1500, 2000, 2500, 3000, 3500, 4000, 4500, 5000])"
      ]
     },
     "execution_count": 49,
     "metadata": {},
     "output_type": "execute_result"
    }
   ],
   "source": [
    "np.arange(0,5500,500)"
   ]
  },
  {
   "cell_type": "markdown",
   "id": "9fe61ab4",
   "metadata": {},
   "source": [
    "# Linspace: create linearly spaced arrays\n",
    "\n",
    "\n",
    "np.linspace(start,stop,number of points)\n",
    "\n",
    "stoping point is also included"
   ]
  },
  {
   "cell_type": "code",
   "execution_count": 50,
   "id": "1f0fa328",
   "metadata": {},
   "outputs": [],
   "source": [
    "saturations = np.linspace(0,1,101)"
   ]
  },
  {
   "cell_type": "code",
   "execution_count": 51,
   "id": "0ba0ba84",
   "metadata": {},
   "outputs": [
    {
     "data": {
      "text/plain": [
       "array([0.  , 0.01, 0.02, 0.03, 0.04, 0.05, 0.06, 0.07, 0.08, 0.09, 0.1 ,\n",
       "       0.11, 0.12, 0.13, 0.14, 0.15, 0.16, 0.17, 0.18, 0.19, 0.2 , 0.21,\n",
       "       0.22, 0.23, 0.24, 0.25, 0.26, 0.27, 0.28, 0.29, 0.3 , 0.31, 0.32,\n",
       "       0.33, 0.34, 0.35, 0.36, 0.37, 0.38, 0.39, 0.4 , 0.41, 0.42, 0.43,\n",
       "       0.44, 0.45, 0.46, 0.47, 0.48, 0.49, 0.5 , 0.51, 0.52, 0.53, 0.54,\n",
       "       0.55, 0.56, 0.57, 0.58, 0.59, 0.6 , 0.61, 0.62, 0.63, 0.64, 0.65,\n",
       "       0.66, 0.67, 0.68, 0.69, 0.7 , 0.71, 0.72, 0.73, 0.74, 0.75, 0.76,\n",
       "       0.77, 0.78, 0.79, 0.8 , 0.81, 0.82, 0.83, 0.84, 0.85, 0.86, 0.87,\n",
       "       0.88, 0.89, 0.9 , 0.91, 0.92, 0.93, 0.94, 0.95, 0.96, 0.97, 0.98,\n",
       "       0.99, 1.  ])"
      ]
     },
     "execution_count": 51,
     "metadata": {},
     "output_type": "execute_result"
    }
   ],
   "source": [
    "saturations"
   ]
  },
  {
   "cell_type": "markdown",
   "id": "9b09e3a4",
   "metadata": {},
   "source": [
    "## Shape: checking the array shape\n",
    "\n",
    "- number of elements in each dimension of an array"
   ]
  },
  {
   "cell_type": "code",
   "execution_count": 52,
   "id": "259fe62c",
   "metadata": {},
   "outputs": [
    {
     "data": {
      "text/plain": [
       "array([[[[   1,    2,    3,    4],\n",
       "         [   3,    4,    5,    6],\n",
       "         [   6,    7,    8,    9]],\n",
       "\n",
       "        [[  34,   56,   78,   45],\n",
       "         [  98,   54,   32,   12],\n",
       "         [  56,   67,   23,   67]]],\n",
       "\n",
       "\n",
       "       [[[  11,   22,  343,   42],\n",
       "         [  33,   44,   55,  665],\n",
       "         [ 656,   73,    8,    9]],\n",
       "\n",
       "        [[  34, 5326,   78, 4325],\n",
       "         [  98, 5324, 3232,   12],\n",
       "         [  56,   67,   23,   67]]]])"
      ]
     },
     "execution_count": 52,
     "metadata": {},
     "output_type": "execute_result"
    }
   ],
   "source": [
    "arr_4d"
   ]
  },
  {
   "cell_type": "code",
   "execution_count": 58,
   "id": "3631b547",
   "metadata": {},
   "outputs": [],
   "source": [
    "arr=np.array(45)"
   ]
  },
  {
   "cell_type": "code",
   "execution_count": 59,
   "id": "e3734797",
   "metadata": {},
   "outputs": [
    {
     "data": {
      "text/plain": [
       "()"
      ]
     },
     "execution_count": 59,
     "metadata": {},
     "output_type": "execute_result"
    }
   ],
   "source": [
    "arr.shape"
   ]
  },
  {
   "cell_type": "code",
   "execution_count": 55,
   "id": "1a7c0a88",
   "metadata": {},
   "outputs": [
    {
     "data": {
      "text/plain": [
       "(2, 2, 3, 4)"
      ]
     },
     "execution_count": 55,
     "metadata": {},
     "output_type": "execute_result"
    }
   ],
   "source": [
    "arr_4d.shape"
   ]
  },
  {
   "cell_type": "code",
   "execution_count": 60,
   "id": "449e30fb",
   "metadata": {},
   "outputs": [
    {
     "data": {
      "text/plain": [
       "(4,)"
      ]
     },
     "execution_count": 60,
     "metadata": {},
     "output_type": "execute_result"
    }
   ],
   "source": [
    "arr_1d.shape"
   ]
  },
  {
   "cell_type": "code",
   "execution_count": 61,
   "id": "dd2a452e",
   "metadata": {},
   "outputs": [
    {
     "data": {
      "text/plain": [
       "(4, 3)"
      ]
     },
     "execution_count": 61,
     "metadata": {},
     "output_type": "execute_result"
    }
   ],
   "source": [
    "arr_2d.shape"
   ]
  },
  {
   "cell_type": "code",
   "execution_count": 62,
   "id": "c648d64b",
   "metadata": {},
   "outputs": [
    {
     "data": {
      "text/plain": [
       "()"
      ]
     },
     "execution_count": 62,
     "metadata": {},
     "output_type": "execute_result"
    }
   ],
   "source": [
    "arr.shape"
   ]
  },
  {
   "cell_type": "code",
   "execution_count": 63,
   "id": "9a6606f8",
   "metadata": {},
   "outputs": [
    {
     "data": {
      "text/plain": [
       "(2, 2, 3, 4)"
      ]
     },
     "execution_count": 63,
     "metadata": {},
     "output_type": "execute_result"
    }
   ],
   "source": [
    "arr_4d.shape"
   ]
  },
  {
   "cell_type": "markdown",
   "id": "329e869a",
   "metadata": {},
   "source": [
    "## indexing"
   ]
  },
  {
   "cell_type": "code",
   "execution_count": 64,
   "id": "3c89fe0b",
   "metadata": {},
   "outputs": [
    {
     "data": {
      "text/plain": [
       "array([  45,   56,   34, 7534])"
      ]
     },
     "execution_count": 64,
     "metadata": {},
     "output_type": "execute_result"
    }
   ],
   "source": [
    "arr_1d"
   ]
  },
  {
   "cell_type": "code",
   "execution_count": 65,
   "id": "05262066",
   "metadata": {},
   "outputs": [
    {
     "data": {
      "text/plain": [
       "56"
      ]
     },
     "execution_count": 65,
     "metadata": {},
     "output_type": "execute_result"
    }
   ],
   "source": [
    "arr_1d[1]"
   ]
  },
  {
   "cell_type": "code",
   "execution_count": 66,
   "id": "d35b8992",
   "metadata": {},
   "outputs": [
    {
     "data": {
      "text/plain": [
       "array([[1, 2, 3],\n",
       "       [4, 5, 6],\n",
       "       [7, 8, 9],\n",
       "       [4, 7, 3]])"
      ]
     },
     "execution_count": 66,
     "metadata": {},
     "output_type": "execute_result"
    }
   ],
   "source": [
    "arr_2d"
   ]
  },
  {
   "cell_type": "code",
   "execution_count": 67,
   "id": "4ff9f2aa",
   "metadata": {},
   "outputs": [
    {
     "data": {
      "text/plain": [
       "array([7, 8, 9])"
      ]
     },
     "execution_count": 67,
     "metadata": {},
     "output_type": "execute_result"
    }
   ],
   "source": [
    "arr_2d[2]"
   ]
  },
  {
   "cell_type": "code",
   "execution_count": 69,
   "id": "eb0ad465",
   "metadata": {},
   "outputs": [
    {
     "data": {
      "text/plain": [
       "8"
      ]
     },
     "execution_count": 69,
     "metadata": {},
     "output_type": "execute_result"
    }
   ],
   "source": [
    "arr_2d[2][1]"
   ]
  },
  {
   "cell_type": "code",
   "execution_count": 70,
   "id": "0fb7c4df",
   "metadata": {},
   "outputs": [
    {
     "data": {
      "text/plain": [
       "8"
      ]
     },
     "execution_count": 70,
     "metadata": {},
     "output_type": "execute_result"
    }
   ],
   "source": [
    "arr_2d[2,1]"
   ]
  },
  {
   "cell_type": "code",
   "execution_count": 71,
   "id": "a1bdaeb9",
   "metadata": {},
   "outputs": [
    {
     "data": {
      "text/plain": [
       "array([[[ 1,  2,  3],\n",
       "        [ 3,  4,  5]],\n",
       "\n",
       "       [[45, 56, 43],\n",
       "        [36, 78, 45]],\n",
       "\n",
       "       [[67, 34, 23],\n",
       "        [76, 34, 23]]])"
      ]
     },
     "execution_count": 71,
     "metadata": {},
     "output_type": "execute_result"
    }
   ],
   "source": [
    "arr_3d"
   ]
  },
  {
   "cell_type": "code",
   "execution_count": 72,
   "id": "17fb59e0",
   "metadata": {},
   "outputs": [
    {
     "data": {
      "text/plain": [
       "45"
      ]
     },
     "execution_count": 72,
     "metadata": {},
     "output_type": "execute_result"
    }
   ],
   "source": [
    "arr_3d[1,1,2]"
   ]
  },
  {
   "cell_type": "code",
   "execution_count": 73,
   "id": "1847b041",
   "metadata": {},
   "outputs": [
    {
     "data": {
      "text/plain": [
       "array([[45, 56, 43],\n",
       "       [36, 78, 45]])"
      ]
     },
     "execution_count": 73,
     "metadata": {},
     "output_type": "execute_result"
    }
   ],
   "source": [
    "arr_3d[1]"
   ]
  },
  {
   "cell_type": "code",
   "execution_count": 74,
   "id": "20106d19",
   "metadata": {},
   "outputs": [
    {
     "data": {
      "text/plain": [
       "array([36, 78, 45])"
      ]
     },
     "execution_count": 74,
     "metadata": {},
     "output_type": "execute_result"
    }
   ],
   "source": [
    "arr_3d[1][1]"
   ]
  },
  {
   "cell_type": "code",
   "execution_count": 75,
   "id": "f2f762e6",
   "metadata": {},
   "outputs": [
    {
     "data": {
      "text/plain": [
       "45"
      ]
     },
     "execution_count": 75,
     "metadata": {},
     "output_type": "execute_result"
    }
   ],
   "source": [
    "arr_3d[1][1][2]"
   ]
  },
  {
   "cell_type": "markdown",
   "id": "94af319d",
   "metadata": {},
   "source": [
    "## Slicing"
   ]
  },
  {
   "cell_type": "code",
   "execution_count": 76,
   "id": "113c995b",
   "metadata": {},
   "outputs": [
    {
     "data": {
      "text/plain": [
       "array([  45,   56,   34, 7534])"
      ]
     },
     "execution_count": 76,
     "metadata": {},
     "output_type": "execute_result"
    }
   ],
   "source": [
    "arr_1d"
   ]
  },
  {
   "cell_type": "code",
   "execution_count": 77,
   "id": "f505fed9",
   "metadata": {},
   "outputs": [
    {
     "data": {
      "text/plain": [
       "array([  56,   34, 7534])"
      ]
     },
     "execution_count": 77,
     "metadata": {},
     "output_type": "execute_result"
    }
   ],
   "source": [
    "arr_1d[1:]"
   ]
  },
  {
   "cell_type": "code",
   "execution_count": 78,
   "id": "d5f0bc1a",
   "metadata": {},
   "outputs": [
    {
     "data": {
      "text/plain": [
       "array([  56, 7534])"
      ]
     },
     "execution_count": 78,
     "metadata": {},
     "output_type": "execute_result"
    }
   ],
   "source": [
    "arr_1d[1::2]"
   ]
  },
  {
   "cell_type": "code",
   "execution_count": 79,
   "id": "62797284",
   "metadata": {},
   "outputs": [
    {
     "data": {
      "text/plain": [
       "array([[1, 2, 3],\n",
       "       [4, 5, 6],\n",
       "       [7, 8, 9],\n",
       "       [4, 7, 3]])"
      ]
     },
     "execution_count": 79,
     "metadata": {},
     "output_type": "execute_result"
    }
   ],
   "source": [
    "arr_2d"
   ]
  },
  {
   "cell_type": "code",
   "execution_count": 80,
   "id": "9ce5f210",
   "metadata": {},
   "outputs": [
    {
     "data": {
      "text/plain": [
       "array([[4, 5, 6],\n",
       "       [7, 8, 9]])"
      ]
     },
     "execution_count": 80,
     "metadata": {},
     "output_type": "execute_result"
    }
   ],
   "source": [
    "arr_2d[1:3]"
   ]
  },
  {
   "cell_type": "code",
   "execution_count": 81,
   "id": "2045d9e6",
   "metadata": {},
   "outputs": [
    {
     "data": {
      "text/plain": [
       "array([[5, 6],\n",
       "       [8, 9]])"
      ]
     },
     "execution_count": 81,
     "metadata": {},
     "output_type": "execute_result"
    }
   ],
   "source": [
    "arr_2d[1:3,1:]"
   ]
  },
  {
   "cell_type": "code",
   "execution_count": 82,
   "id": "1c331231",
   "metadata": {},
   "outputs": [],
   "source": [
    "perm = np.array([[13,23,32,43,54],[43,55,60,7,8],[12,34,45,77,87],[2,55,39,82,49]])"
   ]
  },
  {
   "cell_type": "code",
   "execution_count": 83,
   "id": "8aca71f7",
   "metadata": {},
   "outputs": [
    {
     "data": {
      "text/plain": [
       "array([[13, 23, 32, 43, 54],\n",
       "       [43, 55, 60,  7,  8],\n",
       "       [12, 34, 45, 77, 87],\n",
       "       [ 2, 55, 39, 82, 49]])"
      ]
     },
     "execution_count": 83,
     "metadata": {},
     "output_type": "execute_result"
    }
   ],
   "source": [
    "perm"
   ]
  },
  {
   "cell_type": "code",
   "execution_count": 84,
   "id": "29664239",
   "metadata": {},
   "outputs": [],
   "source": [
    "import matplotlib.pyplot as plt\n",
    "import seaborn as sns"
   ]
  },
  {
   "cell_type": "code",
   "execution_count": 85,
   "id": "1cf60438",
   "metadata": {},
   "outputs": [
    {
     "data": {
      "text/plain": [
       "<Axes: title={'center': 'Reservoir Permeability Grids'}>"
      ]
     },
     "execution_count": 85,
     "metadata": {},
     "output_type": "execute_result"
    },
    {
     "data": {
      "image/png": "[encoded data removed]",
      "text/plain": [
       "<Figure size 1000x800 with 2 Axes>"
      ]
     },
     "metadata": {},
     "output_type": "display_data"
    }
   ],
   "source": [
    "plt.figure(figsize =(10,8))\n",
    "plt.title(\"Reservoir Permeability Grids\")\n",
    "sns.heatmap(perm,annot=True)"
   ]
  },
  {
   "cell_type": "code",
   "execution_count": 86,
   "id": "849b3828",
   "metadata": {},
   "outputs": [
    {
     "data": {
      "text/plain": [
       "array([[60,  7],\n",
       "       [45, 77]])"
      ]
     },
     "execution_count": 86,
     "metadata": {},
     "output_type": "execute_result"
    }
   ],
   "source": [
    "perm[1:3,2:4]"
   ]
  },
  {
   "cell_type": "code",
   "execution_count": 87,
   "id": "36276771",
   "metadata": {},
   "outputs": [
    {
     "data": {
      "text/plain": [
       "<Axes: title={'center': 'Reservoir Permeability Grids sliced'}>"
      ]
     },
     "execution_count": 87,
     "metadata": {},
     "output_type": "execute_result"
    },
    {
     "data": {
      "image/png": "[encoded data removed]",
      "text/plain": [
       "<Figure size 1000x800 with 2 Axes>"
      ]
     },
     "metadata": {},
     "output_type": "display_data"
    }
   ],
   "source": [
    "plt.figure(figsize = (10,8))\n",
    "plt.title('Reservoir Permeability Grids sliced')\n",
    "sns.heatmap(perm[1:3,2:4],annot=True)"
   ]
  },
  {
   "cell_type": "code",
   "execution_count": 88,
   "id": "4310e711",
   "metadata": {},
   "outputs": [],
   "source": [
    "perm[1:3,2:4] = perm[1:3,2:4]*1.2"
   ]
  },
  {
   "cell_type": "code",
   "execution_count": 89,
   "id": "089783a8",
   "metadata": {},
   "outputs": [
    {
     "data": {
      "text/plain": [
       "array([[13, 23, 32, 43, 54],\n",
       "       [43, 55, 72,  8,  8],\n",
       "       [12, 34, 54, 92, 87],\n",
       "       [ 2, 55, 39, 82, 49]])"
      ]
     },
     "execution_count": 89,
     "metadata": {},
     "output_type": "execute_result"
    }
   ],
   "source": [
    "perm"
   ]
  },
  {
   "cell_type": "code",
   "execution_count": 90,
   "id": "7633ab9e",
   "metadata": {},
   "outputs": [
    {
     "data": {
      "text/plain": [
       "<Axes: title={'center': 'Reservoir Permeability Grids'}>"
      ]
     },
     "execution_count": 90,
     "metadata": {},
     "output_type": "execute_result"
    },
    {
     "data": {
      "image/png": "[encoded data removed]",
      "text/plain": [
       "<Figure size 1000x800 with 2 Axes>"
      ]
     },
     "metadata": {},
     "output_type": "display_data"
    }
   ],
   "source": [
    "plt.figure(figsize = (10,8))\n",
    "plt.title('Reservoir Permeability Grids')\n",
    "sns.heatmap(perm,annot=True)"
   ]
  },
  {
   "cell_type": "markdown",
   "id": "124bf076",
   "metadata": {},
   "source": [
    "## Reshape"
   ]
  },
  {
   "cell_type": "code",
   "execution_count": 91,
   "id": "086b1280",
   "metadata": {},
   "outputs": [],
   "source": [
    "perm = np.array([[[1,2,3,4],[4,5,6,5]],[[3,4,5,8],[5,6,7,9]],[[23,34,56,78],[45,67,78,56]]])"
   ]
  },
  {
   "cell_type": "code",
   "execution_count": 92,
   "id": "3964f60f",
   "metadata": {},
   "outputs": [
    {
     "data": {
      "text/plain": [
       "array([[[ 1,  2,  3,  4],\n",
       "        [ 4,  5,  6,  5]],\n",
       "\n",
       "       [[ 3,  4,  5,  8],\n",
       "        [ 5,  6,  7,  9]],\n",
       "\n",
       "       [[23, 34, 56, 78],\n",
       "        [45, 67, 78, 56]]])"
      ]
     },
     "execution_count": 92,
     "metadata": {},
     "output_type": "execute_result"
    }
   ],
   "source": [
    "perm"
   ]
  },
  {
   "cell_type": "code",
   "execution_count": 93,
   "id": "177b5691",
   "metadata": {},
   "outputs": [
    {
     "data": {
      "text/plain": [
       "(3, 2, 4)"
      ]
     },
     "execution_count": 93,
     "metadata": {},
     "output_type": "execute_result"
    }
   ],
   "source": [
    "perm.shape"
   ]
  },
  {
   "cell_type": "code",
   "execution_count": 94,
   "id": "c1a543a3",
   "metadata": {},
   "outputs": [
    {
     "data": {
      "text/plain": [
       "array([ 1,  2,  3,  4,  4,  5,  6,  5,  3,  4,  5,  8,  5,  6,  7,  9, 23,\n",
       "       34, 56, 78, 45, 67, 78, 56])"
      ]
     },
     "execution_count": 94,
     "metadata": {},
     "output_type": "execute_result"
    }
   ],
   "source": [
    "perm.reshape(24,)"
   ]
  },
  {
   "cell_type": "code",
   "execution_count": 95,
   "id": "6613137a",
   "metadata": {},
   "outputs": [
    {
     "data": {
      "text/plain": [
       "array([[ 1,  2,  3,  4],\n",
       "       [ 4,  5,  6,  5],\n",
       "       [ 3,  4,  5,  8],\n",
       "       [ 5,  6,  7,  9],\n",
       "       [23, 34, 56, 78],\n",
       "       [45, 67, 78, 56]])"
      ]
     },
     "execution_count": 95,
     "metadata": {},
     "output_type": "execute_result"
    }
   ],
   "source": [
    "perm.reshape(6,4)"
   ]
  },
  {
   "cell_type": "code",
   "execution_count": 96,
   "id": "189bfd8b",
   "metadata": {},
   "outputs": [
    {
     "data": {
      "text/plain": [
       "array([[[[ 1,  2],\n",
       "         [ 3,  4],\n",
       "         [ 4,  5]],\n",
       "\n",
       "        [[ 6,  5],\n",
       "         [ 3,  4],\n",
       "         [ 5,  8]]],\n",
       "\n",
       "\n",
       "       [[[ 5,  6],\n",
       "         [ 7,  9],\n",
       "         [23, 34]],\n",
       "\n",
       "        [[56, 78],\n",
       "         [45, 67],\n",
       "         [78, 56]]]])"
      ]
     },
     "execution_count": 96,
     "metadata": {},
     "output_type": "execute_result"
    }
   ],
   "source": [
    "perm.reshape(6,4).reshape(2,2,3,2)"
   ]
  },
  {
   "cell_type": "code",
   "execution_count": 97,
   "id": "5aec349e",
   "metadata": {},
   "outputs": [
    {
     "data": {
      "text/plain": [
       "array([[[[ 1,  2],\n",
       "         [ 3,  4],\n",
       "         [ 4,  5]],\n",
       "\n",
       "        [[ 6,  5],\n",
       "         [ 3,  4],\n",
       "         [ 5,  8]]],\n",
       "\n",
       "\n",
       "       [[[ 5,  6],\n",
       "         [ 7,  9],\n",
       "         [23, 34]],\n",
       "\n",
       "        [[56, 78],\n",
       "         [45, 67],\n",
       "         [78, 56]]]])"
      ]
     },
     "execution_count": 97,
     "metadata": {},
     "output_type": "execute_result"
    }
   ],
   "source": [
    "perm.reshape(2,2,3,2)"
   ]
  },
  {
   "cell_type": "code",
   "execution_count": 98,
   "id": "2a4ecc9f",
   "metadata": {},
   "outputs": [
    {
     "ename": "ValueError",
     "evalue": "cannot reshape array of size 24 into shape (3,2)",
     "output_type": "error",
     "traceback": [
      "\u001b[1;31m---------------------------------------------------------------------------\u001b[0m",
      "\u001b[1;31mValueError\u001b[0m                                Traceback (most recent call last)",
      "Cell \u001b[1;32mIn[98], line 1\u001b[0m\n\u001b[1;32m----> 1\u001b[0m \u001b[43mperm\u001b[49m\u001b[38;5;241;43m.\u001b[39;49m\u001b[43mreshape\u001b[49m\u001b[43m(\u001b[49m\u001b[38;5;241;43m3\u001b[39;49m\u001b[43m,\u001b[49m\u001b[38;5;241;43m2\u001b[39;49m\u001b[43m)\u001b[49m\n",
      "\u001b[1;31mValueError\u001b[0m: cannot reshape array of size 24 into shape (3,2)"
     ]
    }
   ],
   "source": [
    "perm.reshape(3,2)"
   ]
  },
  {
   "cell_type": "markdown",
   "id": "8c792bca",
   "metadata": {},
   "source": [
    "## assignment: \n",
    "\n",
    "poro = np.array([23,43,3,2,12,3,4,2,2,1,3,4,2,21,34,23,42,2,76,54,32,23,54,5,45,5,5,4,3,4,3,2,53,2,4,6])\n",
    "\n",
    "- 2d\n",
    "\n",
    "- 3d\n",
    "\n",
    "- 2d => 4d\n",
    "\n",
    "- 5d"
   ]
  },
  {
   "cell_type": "markdown",
   "id": "a231ae32",
   "metadata": {},
   "source": [
    "### ASsignment"
   ]
  },
  {
   "cell_type": "code",
   "execution_count": 100,
   "id": "08fb2752",
   "metadata": {},
   "outputs": [],
   "source": [
    "poro = np.array([23,43,3,2,12,3,4,2,2,1,3,4,2,21,34,23,42,2,76,54,32,23,54,5,45,5,5,4,3,4,3,2,53,2,4,6])"
   ]
  },
  {
   "cell_type": "code",
   "execution_count": 101,
   "id": "910aef07",
   "metadata": {},
   "outputs": [
    {
     "data": {
      "text/plain": [
       "(36,)"
      ]
     },
     "execution_count": 101,
     "metadata": {},
     "output_type": "execute_result"
    }
   ],
   "source": [
    "poro.shape"
   ]
  },
  {
   "cell_type": "code",
   "execution_count": 102,
   "id": "4e1a78f7",
   "metadata": {},
   "outputs": [],
   "source": [
    "##2d"
   ]
  },
  {
   "cell_type": "code",
   "execution_count": 104,
   "id": "a317910c",
   "metadata": {},
   "outputs": [
    {
     "data": {
      "text/plain": [
       "array([[23, 43,  3,  2, 12,  3,  4,  2,  2,  1,  3,  4],\n",
       "       [ 2, 21, 34, 23, 42,  2, 76, 54, 32, 23, 54,  5],\n",
       "       [45,  5,  5,  4,  3,  4,  3,  2, 53,  2,  4,  6]])"
      ]
     },
     "execution_count": 104,
     "metadata": {},
     "output_type": "execute_result"
    }
   ],
   "source": [
    "poro.reshape(3,12)"
   ]
  },
  {
   "cell_type": "code",
   "execution_count": 105,
   "id": "05fde86d",
   "metadata": {},
   "outputs": [],
   "source": [
    "##3d"
   ]
  },
  {
   "cell_type": "code",
   "execution_count": 106,
   "id": "bc6ab04b",
   "metadata": {},
   "outputs": [
    {
     "data": {
      "text/plain": [
       "array([[[23, 43,  3,  2],\n",
       "        [12,  3,  4,  2],\n",
       "        [ 2,  1,  3,  4]],\n",
       "\n",
       "       [[ 2, 21, 34, 23],\n",
       "        [42,  2, 76, 54],\n",
       "        [32, 23, 54,  5]],\n",
       "\n",
       "       [[45,  5,  5,  4],\n",
       "        [ 3,  4,  3,  2],\n",
       "        [53,  2,  4,  6]]])"
      ]
     },
     "execution_count": 106,
     "metadata": {},
     "output_type": "execute_result"
    }
   ],
   "source": [
    "poro.reshape(3,3,4)"
   ]
  },
  {
   "cell_type": "code",
   "execution_count": 107,
   "id": "8939662e",
   "metadata": {},
   "outputs": [],
   "source": [
    "##4d"
   ]
  },
  {
   "cell_type": "code",
   "execution_count": 108,
   "id": "941dba60",
   "metadata": {},
   "outputs": [
    {
     "data": {
      "text/plain": [
       "array([[[[23, 43],\n",
       "         [ 3,  2],\n",
       "         [12,  3]],\n",
       "\n",
       "        [[ 4,  2],\n",
       "         [ 2,  1],\n",
       "         [ 3,  4]],\n",
       "\n",
       "        [[ 2, 21],\n",
       "         [34, 23],\n",
       "         [42,  2]]],\n",
       "\n",
       "\n",
       "       [[[76, 54],\n",
       "         [32, 23],\n",
       "         [54,  5]],\n",
       "\n",
       "        [[45,  5],\n",
       "         [ 5,  4],\n",
       "         [ 3,  4]],\n",
       "\n",
       "        [[ 3,  2],\n",
       "         [53,  2],\n",
       "         [ 4,  6]]]])"
      ]
     },
     "execution_count": 108,
     "metadata": {},
     "output_type": "execute_result"
    }
   ],
   "source": [
    "poro.reshape(2,3,3,2)"
   ]
  },
  {
   "cell_type": "code",
   "execution_count": 109,
   "id": "d42439a6",
   "metadata": {},
   "outputs": [],
   "source": [
    "##5d"
   ]
  },
  {
   "cell_type": "code",
   "execution_count": 110,
   "id": "dfde163a",
   "metadata": {},
   "outputs": [
    {
     "data": {
      "text/plain": [
       "array([[[[[23, 43],\n",
       "          [ 3,  2]],\n",
       "\n",
       "         [[12,  3],\n",
       "          [ 4,  2]],\n",
       "\n",
       "         [[ 2,  1],\n",
       "          [ 3,  4]]],\n",
       "\n",
       "\n",
       "        [[[ 2, 21],\n",
       "          [34, 23]],\n",
       "\n",
       "         [[42,  2],\n",
       "          [76, 54]],\n",
       "\n",
       "         [[32, 23],\n",
       "          [54,  5]]],\n",
       "\n",
       "\n",
       "        [[[45,  5],\n",
       "          [ 5,  4]],\n",
       "\n",
       "         [[ 3,  4],\n",
       "          [ 3,  2]],\n",
       "\n",
       "         [[53,  2],\n",
       "          [ 4,  6]]]]])"
      ]
     },
     "execution_count": 110,
     "metadata": {},
     "output_type": "execute_result"
    }
   ],
   "source": [
    "poro.reshape(1,3,3,2,2)"
   ]
  },
  {
   "cell_type": "code",
   "execution_count": null,
   "id": "15a1de8a",
   "metadata": {},
   "outputs": [],
   "source": []
  }
 ],
 "metadata": {
  "kernelspec": {
   "display_name": "Python 3 (ipykernel)",
   "language": "python",
   "name": "python3"
  },
  "language_info": {
   "codemirror_mode": {
    "name": "ipython",
    "version": 3
   },
   "file_extension": ".py",
   "mimetype": "text/x-python",
   "name": "python",
   "nbconvert_exporter": "python",
   "pygments_lexer": "ipython3",
   "version": "3.10.9"
  }
 },
 "nbformat": 4,
 "nbformat_minor": 5
}
